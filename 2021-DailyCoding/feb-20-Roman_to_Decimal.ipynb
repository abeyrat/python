{
 "cells": [
  {
   "cell_type": "code",
   "execution_count": 8,
   "metadata": {},
   "outputs": [],
   "source": [
    "adict = {\n",
    "    'M': 1000,\n",
    "    'D': 500,\n",
    "    'C': 100,\n",
    "    'L': 50,\n",
    "    'X': 10,\n",
    "    'V': 5,\n",
    "    'I': 1\n",
    "}\n",
    "\n"
   ]
  },
  {
   "cell_type": "code",
   "execution_count": 2,
   "metadata": {},
   "outputs": [
    {
     "name": "stdout",
     "output_type": "stream",
     "text": [
      "{'M': 1000, 'D': 500, 'C': 100, 'L': 50, 'X': 10, 'V': 5, 'I': 1}\n"
     ]
    }
   ],
   "source": [
    "print(adict)"
   ]
  },
  {
   "cell_type": "code",
   "execution_count": 3,
   "metadata": {},
   "outputs": [
    {
     "data": {
      "text/plain": [
       "['M', 'D', 'C', 'L', 'X', 'V', 'I']"
      ]
     },
     "execution_count": 3,
     "metadata": {},
     "output_type": "execute_result"
    }
   ],
   "source": [
    "list(adict.keys())"
   ]
  },
  {
   "cell_type": "code",
   "execution_count": 11,
   "metadata": {},
   "outputs": [
    {
     "data": {
      "text/plain": [
       "dict_items([('M', 1000), ('D', 500), ('C', 100), ('L', 50), ('X', 10), ('V', 5), ('I', 1)])"
      ]
     },
     "execution_count": 11,
     "metadata": {},
     "output_type": "execute_result"
    }
   ],
   "source": [
    "adict.items()"
   ]
  },
  {
   "cell_type": "code",
   "execution_count": null,
   "metadata": {},
   "outputs": [],
   "source": []
  },
  {
   "cell_type": "code",
   "execution_count": 5,
   "metadata": {},
   "outputs": [
    {
     "data": {
      "text/plain": [
       "[1000, 500, 100, 50, 10, 5, 1]"
      ]
     },
     "execution_count": 5,
     "metadata": {},
     "output_type": "execute_result"
    }
   ],
   "source": [
    "list(adict.values())"
   ]
  },
  {
   "cell_type": "code",
   "execution_count": 6,
   "metadata": {},
   "outputs": [
    {
     "ename": "SyntaxError",
     "evalue": "unexpected EOF while parsing (<ipython-input-6-3fdbb8f71ab2>, line 6)",
     "output_type": "error",
     "traceback": [
      "\u001b[0;36m  File \u001b[0;32m\"<ipython-input-6-3fdbb8f71ab2>\"\u001b[0;36m, line \u001b[0;32m6\u001b[0m\n\u001b[0;31m    \u001b[0m\n\u001b[0m    ^\u001b[0m\n\u001b[0;31mSyntaxError\u001b[0m\u001b[0;31m:\u001b[0m unexpected EOF while parsing\n"
     ]
    }
   ],
   "source": [
    "def Roman(Rnum):\n",
    "    R = list(Rnum)\n",
    "    print(len(R))\n",
    "    if len(R)==1:\n",
    "        \n",
    "    "
   ]
  },
  {
   "cell_type": "code",
   "execution_count": null,
   "metadata": {},
   "outputs": [],
   "source": [
    "Rnum = 'LX'\n",
    "Roman(Rnum)"
   ]
  },
  {
   "cell_type": "code",
   "execution_count": 9,
   "metadata": {},
   "outputs": [],
   "source": [
    "def getKeysByValue(adict, valueToFind):\n",
    "    listOfKeys = list()\n",
    "    listOfItems = adict.items()\n",
    "    for item  in listOfItems:\n",
    "        if item[1] == valueToFind:\n",
    "            listOfKeys.append(item[0])\n",
    "    return  listOfKeys"
   ]
  },
  {
   "cell_type": "code",
   "execution_count": 17,
   "metadata": {},
   "outputs": [
    {
     "name": "stdout",
     "output_type": "stream",
     "text": [
      "Keys with value equal to 1000\n",
      "M\n"
     ]
    }
   ],
   "source": [
    "adict = {\n",
    "    'M': 1000,\n",
    "    'D': 500,\n",
    "    'C': 100,\n",
    "    'L': 50,\n",
    "    'X': 10,\n",
    "    'V': 5,\n",
    "    'I': 1\n",
    "}\n",
    "'''\n",
    "Get list of keys with value 43\n",
    "'''\n",
    "listOfKeys = getKeysByValue(adict, 1000)\n",
    "print(\"Keys with value equal to 1000\")\n",
    "#Iterate over the list of keys\n",
    "for key  in listOfKeys:\n",
    "        print(key)\n",
    "\n",
    "\n"
   ]
  },
  {
   "cell_type": "code",
   "execution_count": null,
   "metadata": {},
   "outputs": [],
   "source": [
    "def getKeysByValue(dictOfElements, valueToFind):\n",
    "    listOfKeys = list()\n",
    "    listOfItems = dictOfElements.items()\n",
    "    for item  in listOfItems:\n",
    "        if item[1] == valueToFind:\n",
    "            listOfKeys.append(item[0])\n",
    "    return  listOfKeys"
   ]
  },
  {
   "cell_type": "code",
   "execution_count": null,
   "metadata": {},
   "outputs": [],
   "source": [
    "dictOfWords = {\n",
    "    \"hello\": 56,\n",
    "    \"at\" : 23 ,\n",
    "    \"test\" : 43,\n",
    "    \"this\" : 97,\n",
    "    \"here\" : 43,\n",
    "    \"now\" : 97\n",
    "    }\n",
    "\n",
    "'''\n",
    "Get list of keys with value 43\n",
    "'''\n",
    "listOfKeys = getKeysByValue(dictOfWords, 43)\n",
    "print(\"Keys with value equal to 43\")\n",
    "#Iterate over the list of keys\n",
    "for key  in listOfKeys:\n",
    "        print(key)\n"
   ]
  },
  {
   "cell_type": "code",
   "execution_count": 13,
   "metadata": {},
   "outputs": [
    {
     "name": "stdout",
     "output_type": "stream",
     "text": [
      "Keys with value equal to 1000\n"
     ]
    }
   ],
   "source": [
    "listOfKeys = getKeysByValue(adict, 1000)\n",
    "print(\"Keys with value equal to 1000\")"
   ]
  },
  {
   "cell_type": "markdown",
   "metadata": {},
   "source": [
    "Solution"
   ]
  },
  {
   "cell_type": "code",
   "execution_count": 30,
   "metadata": {},
   "outputs": [],
   "source": [
    "def getKeysByValue(adict, valueToFind):\n",
    "    listOfKeys = list()\n",
    "    listOfItems = adict.items()\n",
    "    \n",
    "    x = str(valueToFind)\n",
    "    print(len(x))\n",
    "\n",
    "    for item  in listOfItems:\n",
    "        if item[1] == valueToFind:\n",
    "            listOfKeys.append(item[0])\n",
    "    return  listOfKeys"
   ]
  },
  {
   "cell_type": "code",
   "execution_count": 31,
   "metadata": {},
   "outputs": [
    {
     "name": "stdout",
     "output_type": "stream",
     "text": [
      "4\n",
      "Keys with value equal to 1000\n",
      "M\n"
     ]
    }
   ],
   "source": [
    "adict = {\n",
    "    'M': 1000,\n",
    "    'D': 500,\n",
    "    'C': 100,\n",
    "    'L': 50,\n",
    "    'X': 10,\n",
    "    'V': 5,\n",
    "    'I': 1\n",
    "}\n",
    "'''\n",
    "Get list of keys with value 43\n",
    "'''\n",
    "listOfKeys = getKeysByValue(adict, 1000)\n",
    "print(\"Keys with value equal to 1000\")\n",
    "#Iterate over the list of keys\n",
    "for key  in listOfKeys:\n",
    "        print(key)"
   ]
  },
  {
   "cell_type": "code",
   "execution_count": 27,
   "metadata": {},
   "outputs": [
    {
     "data": {
      "text/plain": [
       "2"
      ]
     },
     "execution_count": 27,
     "metadata": {},
     "output_type": "execute_result"
    }
   ],
   "source": [
    "x = list(str(43))\n",
    "len(x)"
   ]
  },
  {
   "cell_type": "code",
   "execution_count": 122,
   "metadata": {},
   "outputs": [],
   "source": [
    "def getValuesByKeys(adict, keyToFind):\n",
    "    listOfValues = list()\n",
    "    listOfItems = adict.items()\n",
    "    \n",
    "    x = str(keyToFind)\n",
    "    print(len(x))\n",
    "    y = list(x)\n",
    "    if len(x) ==1:\n",
    "        for item  in listOfItems:\n",
    "            if item[0] == keyToFind:\n",
    "                listOfValues.append(item[1])\n",
    "                print('iamhere')\n",
    "        return  listOfValues\n",
    "    if len(x) > 1:\n",
    "        print('hi')\n",
    "        for i in range(0, len(x)):\n",
    "            print(y[i])\n",
    "            for item  in listOfItems:\n",
    "                if item[0] == y[i]:\n",
    "                    listOfValues.append(item[1])\n",
    "            print(listOfValues)\n",
    "    print(listOfValues[0] )\n",
    "    value = 0\n",
    "    for i in range (0, len(listOfValues)-1):\n",
    "        if listOfValues[i] >= listOfValues[i+1]:\n",
    "            value = listOfValues[i] + listOfValues[i+1]\n",
    "        else:\n",
    "             value = listOfValues[i+1] - listOfValues[i]\n",
    "    print(value)\n",
    "            \n",
    "        \n",
    "        \n",
    "            \n",
    "            \n",
    "        "
   ]
  },
  {
   "cell_type": "code",
   "execution_count": 123,
   "metadata": {},
   "outputs": [
    {
     "name": "stdout",
     "output_type": "stream",
     "text": [
      "2\n",
      "hi\n",
      "M\n",
      "[1000]\n",
      "L\n",
      "[1000, 50]\n",
      "1000\n",
      "1050\n"
     ]
    }
   ],
   "source": [
    "adict = {\n",
    "    'M': 1000,\n",
    "    'D': 500,\n",
    "    'C': 100,\n",
    "    'L': 50,\n",
    "    'X': 10,\n",
    "    'V': 5,\n",
    "    'I': 1\n",
    "}\n",
    "'''\n",
    "Get list of keys with value 43\n",
    "'''\n",
    "listOfKeys = getValuesByKeys(adict, 'ML')\n"
   ]
  },
  {
   "cell_type": "code",
   "execution_count": 149,
   "metadata": {},
   "outputs": [],
   "source": [
    "def getValuesByKeys2(adict, keyToFind):\n",
    "    listOfValues = list()\n",
    "    listOfItems = adict.items()\n",
    "    \n",
    "    x = str(keyToFind)\n",
    "    y = list(x) \n",
    "    if len(y) ==1:\n",
    "        for item  in listOfItems:\n",
    "            if item[0] == y[0]:\n",
    "                listOfValues.append(item[1])\n",
    "        return  listOfValues\n",
    "    if len(y) > 1:\n",
    "        #print('hi')\n",
    "        for i in range(0, len(y)):\n",
    "            #print(y[i])\n",
    "            for item  in listOfItems:\n",
    "                if item[0] == y[i]:\n",
    "                    listOfValues.append(item[1])\n",
    "            #print(listOfValues)\n",
    "    i = 0\n",
    "    value = listOfValues[-1]\n",
    "    while i < (len(listOfValues)-1):\n",
    "        if listOfValues[-1-i] <= listOfValues[-2-i]:\n",
    "            value = value + listOfValues[-2-i]\n",
    "            i +=1\n",
    "        else:\n",
    "            value = value - listOfValues[-2-i]\n",
    "            i += 1\n",
    "    return value\n"
   ]
  },
  {
   "cell_type": "code",
   "execution_count": 150,
   "metadata": {},
   "outputs": [
    {
     "name": "stdout",
     "output_type": "stream",
     "text": [
      "[1000]\n"
     ]
    }
   ],
   "source": [
    "adict = {\n",
    "    'M': 1000,\n",
    "    'D': 500,\n",
    "    'C': 100,\n",
    "    'L': 50,\n",
    "    'X': 10,\n",
    "    'V': 5,\n",
    "    'I': 1\n",
    "}\n",
    "'''\n",
    "Get list of keys with value 43\n",
    "'''\n",
    "result = getValuesByKeys2(adict, 'M')\n",
    "print(result)\n"
   ]
  },
  {
   "cell_type": "code",
   "execution_count": 141,
   "metadata": {},
   "outputs": [
    {
     "data": {
      "text/plain": [
       "5"
      ]
     },
     "execution_count": 141,
     "metadata": {},
     "output_type": "execute_result"
    }
   ],
   "source": [
    "A = [1,2,3,4,5]\n",
    "A[-1]"
   ]
  },
  {
   "cell_type": "code",
   "execution_count": null,
   "metadata": {},
   "outputs": [],
   "source": []
  }
 ],
 "metadata": {
  "kernelspec": {
   "display_name": "Python 3",
   "language": "python",
   "name": "python3"
  },
  "language_info": {
   "codemirror_mode": {
    "name": "ipython",
    "version": 3
   },
   "file_extension": ".py",
   "mimetype": "text/x-python",
   "name": "python",
   "nbconvert_exporter": "python",
   "pygments_lexer": "ipython3",
   "version": "3.7.3"
  }
 },
 "nbformat": 4,
 "nbformat_minor": 4
}
