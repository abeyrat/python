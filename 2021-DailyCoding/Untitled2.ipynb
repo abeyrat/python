{
 "cells": [
  {
   "cell_type": "code",
   "execution_count": 5,
   "metadata": {},
   "outputs": [
    {
     "name": "stdout",
     "output_type": "stream",
     "text": [
      "Next Sparse Number is 8\n"
     ]
    }
   ],
   "source": [
    "# Python3 program to find next  \n",
    "# sparse number  \n",
    "  \n",
    "def nextSparse(x): \n",
    "      \n",
    "    # Find binary representation of  \n",
    "    # x and store it in bin[].  \n",
    "    # bin[0] contains least significant  \n",
    "    # bit (LSB), next bit is in bin[1],  \n",
    "    # and so on.  \n",
    "    bin = []  \n",
    "    while (x != 0): \n",
    "        bin.append(x & 1)  \n",
    "        x >>= 1\n",
    "  \n",
    "    # There my be extra bit in result,  \n",
    "    # so add one extra bit  \n",
    "    bin.append(0)  \n",
    "    n = len(bin) # Size of binary representation  \n",
    "      \n",
    "    # The position till which all  \n",
    "    # bits are finalized  \n",
    "    last_final = 0\n",
    "  \n",
    "    # Start from second bit (next to LSB)  \n",
    "    for i in range(1,n - 1): \n",
    "          \n",
    "        # If current bit and its previous  \n",
    "        # bit are 1, but next bit is not 1. \n",
    "        if ((bin[i] == 1 and bin[i - 1] == 1 \n",
    "            and bin[i + 1] != 1)): \n",
    "                  \n",
    "            # Make the next bit 1 \n",
    "            bin[i + 1] = 1 \n",
    "              \n",
    "            # Make all bits before current \n",
    "            # bit as 0 to make sure that  \n",
    "            # we get the smallest next number  \n",
    "            for j in range(i,last_final-1,-1): \n",
    "                bin[j] = 0\n",
    "              \n",
    "            # Store position of the bit set \n",
    "            # so that this bit and bits \n",
    "            # before it are not changed next time. \n",
    "            last_final = i + 1 \n",
    "  \n",
    "    # Find decimal equivalent  \n",
    "    # of modified bin[]  \n",
    "    ans = 0 \n",
    "    for i in range(n):  \n",
    "        ans += bin[i] * (1 << i)  \n",
    "    return ans  \n",
    "  \n",
    "# Driver Code \n",
    "if __name__=='__main__': \n",
    "    x = 6\n",
    "    print(\"Next Sparse Number is\",nextSparse(x))  \n",
    "  \n",
    "# This code is contributed by  \n",
    "# mits  "
   ]
  },
  {
   "cell_type": "code",
   "execution_count": null,
   "metadata": {},
   "outputs": [],
   "source": []
  }
 ],
 "metadata": {
  "kernelspec": {
   "display_name": "Python 3",
   "language": "python",
   "name": "python3"
  },
  "language_info": {
   "codemirror_mode": {
    "name": "ipython",
    "version": 3
   },
   "file_extension": ".py",
   "mimetype": "text/x-python",
   "name": "python",
   "nbconvert_exporter": "python",
   "pygments_lexer": "ipython3",
   "version": "3.7.3"
  }
 },
 "nbformat": 4,
 "nbformat_minor": 4
}
