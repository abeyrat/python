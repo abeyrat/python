{
 "cells": [
  {
   "cell_type": "code",
   "execution_count": 34,
   "metadata": {},
   "outputs": [],
   "source": [
    "def findElements(A, i1,i2,j1,j2):\n",
    "    N = len(A)\n",
    "    M = len(A[0])\n",
    "    print(A[i1][i2])\n",
    "    print(A[j1][j2])\n",
    "    B = []\n",
    "    for i in range(0, N):\n",
    "        for j in range(0, M):\n",
    "            if A[i][j] < A[i1][i2] or A[i][j] > A[j1][j2]:\n",
    "                B.append(A[i][j])\n",
    "                 \n",
    "    print(B)\n",
    "    return len(B)\n"
   ]
  },
  {
   "cell_type": "code",
   "execution_count": 35,
   "metadata": {},
   "outputs": [
    {
     "name": "stdout",
     "output_type": "stream",
     "text": [
      "6\n",
      "23\n",
      "[1, 3, 2, 25, 3, 25, 30, 30, 35, 25, 30, 35, 40, 45]\n"
     ]
    },
    {
     "data": {
      "text/plain": [
       "14"
      ]
     },
     "execution_count": 35,
     "metadata": {},
     "output_type": "execute_result"
    }
   ],
   "source": [
    "A = [[1, 3, 7, 10, 15, 20],\n",
    "    [2, 6, 9, 14, 22, 25],\n",
    "    [3, 8, 10, 15, 25, 30],\n",
    "    [10, 11, 12, 23, 30, 35],\n",
    "    [20, 25, 30, 35, 40, 45]]\n",
    "\n",
    "findElements(A,1,1,3,3)"
   ]
  },
  {
   "cell_type": "code",
   "execution_count": null,
   "metadata": {},
   "outputs": [],
   "source": []
  }
 ],
 "metadata": {
  "kernelspec": {
   "display_name": "Python 3",
   "language": "python",
   "name": "python3"
  },
  "language_info": {
   "codemirror_mode": {
    "name": "ipython",
    "version": 3
   },
   "file_extension": ".py",
   "mimetype": "text/x-python",
   "name": "python",
   "nbconvert_exporter": "python",
   "pygments_lexer": "ipython3",
   "version": "3.7.3"
  }
 },
 "nbformat": 4,
 "nbformat_minor": 4
}
