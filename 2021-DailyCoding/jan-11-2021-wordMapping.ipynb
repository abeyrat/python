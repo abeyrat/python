{
 "cells": [
  {
   "cell_type": "markdown",
   "metadata": {},
   "source": [
    "Determine whether there exists a one-to-one character mapping from one string s1 to another s2.\n",
    "\n",
    "For example, given s1 = abc and s2 = bcd, return true since we can map a to b, b to c, and c to d.\n",
    "\n",
    "Given s1 = foo and s2 = bar, return false since the o cannot map to two characters."
   ]
  },
  {
   "cell_type": "code",
   "execution_count": 17,
   "metadata": {},
   "outputs": [],
   "source": [
    "def wordMapping(s1,s2):\n",
    "    sets1 = set(list(s1))\n",
    "    sets2 = set(list(s2))\n",
    "    if len(sets1) != len(sets2):\n",
    "        return False\n",
    "    else:\n",
    "        return True\n",
    "\n",
    "    \n",
    "    "
   ]
  },
  {
   "cell_type": "code",
   "execution_count": 21,
   "metadata": {},
   "outputs": [
    {
     "data": {
      "text/plain": [
       "True"
      ]
     },
     "execution_count": 21,
     "metadata": {},
     "output_type": "execute_result"
    }
   ],
   "source": [
    "s1 = 'foofa'\n",
    "s2 = 'bar'\n",
    "wordMapping(s1,s2)"
   ]
  },
  {
   "cell_type": "code",
   "execution_count": 2,
   "metadata": {},
   "outputs": [
    {
     "data": {
      "text/plain": [
       "['dog', 'cat', 'hello', 'cat', 'dog', 'dog', 'hello', 'cat', 'world']"
      ]
     },
     "execution_count": 2,
     "metadata": {},
     "output_type": "execute_result"
    }
   ],
   "source": [
    "arr = \"dog cat hello cat dog dog hello cat world\"\n",
    "arr.split()"
   ]
  },
  {
   "cell_type": "code",
   "execution_count": 3,
   "metadata": {},
   "outputs": [
    {
     "data": {
      "text/plain": [
       "True"
      ]
     },
     "execution_count": 3,
     "metadata": {},
     "output_type": "execute_result"
    }
   ],
   "source": [
    "s1 = 'foo'\n",
    "s2 = 'bar'\n",
    "wordMapping2(s1,s2)"
   ]
  },
  {
   "cell_type": "code",
   "execution_count": 14,
   "metadata": {},
   "outputs": [],
   "source": [
    "# Python program to check if two strings are isomorphic \n",
    "MAX_CHARS = 256\n",
    "  \n",
    "# This function returns true if str1 and str2 are isomorphic \n",
    "def areIsomorphic(string1, string2): \n",
    "    m = len(string1) \n",
    "    n = len(string2) \n",
    "  \n",
    "    # Length of both strings must be same for one to one \n",
    "    # corresponance \n",
    "    if m != n: \n",
    "        return False\n",
    "  \n",
    "    # To mark visited characters in str2 \n",
    "    marked = [False] * MAX_CHARS \n",
    "  \n",
    "    # To store mapping of every character from str1 to \n",
    "    # that of str2. Initialize all entries of map as -1 \n",
    "    map = [-1] * MAX_CHARS \n",
    "  \n",
    "    # Process all characters one by one \n",
    "    for i in range(n): \n",
    "  \n",
    "        # if current character of str1 is seen first \n",
    "        # time in it. \n",
    "        if map[ord(string1[i])] == -1: \n",
    "  \n",
    "            # if current character of st2 is already \n",
    "            # seen, one to one mapping not possible \n",
    "            if marked[ord(string2[i])] == True: \n",
    "                return False\n",
    "  \n",
    "            # Mark current character of str2 as visited \n",
    "            marked[ord(string2[i])] = True\n",
    "  \n",
    "            # Store mapping of current characters \n",
    "            map[ord(string1[i])] = string2[i] \n",
    "  \n",
    "        # If this is not first appearance of current \n",
    "        # character in str1, then check if previous \n",
    "        # appearance mapped to same character of str2 \n",
    "        elif map[ord(string1[i])] != string2[i]: \n",
    "            return False\n",
    "  \n",
    "    return True"
   ]
  },
  {
   "cell_type": "code",
   "execution_count": 15,
   "metadata": {},
   "outputs": [
    {
     "name": "stdout",
     "output_type": "stream",
     "text": [
      "True\n",
      "False\n"
     ]
    }
   ],
   "source": [
    "# Driver program \n",
    "print (areIsomorphic(\"aab\",\"xxy\") )\n",
    "print (areIsomorphic(\"aab\",\"xyz\") )\n",
    "# This code is contributed by Bhavya Jain "
   ]
  },
  {
   "cell_type": "code",
   "execution_count": null,
   "metadata": {},
   "outputs": [],
   "source": []
  }
 ],
 "metadata": {
  "kernelspec": {
   "display_name": "Python 3",
   "language": "python",
   "name": "python3"
  },
  "language_info": {
   "codemirror_mode": {
    "name": "ipython",
    "version": 3
   },
   "file_extension": ".py",
   "mimetype": "text/x-python",
   "name": "python",
   "nbconvert_exporter": "python",
   "pygments_lexer": "ipython3",
   "version": "3.7.3"
  }
 },
 "nbformat": 4,
 "nbformat_minor": 4
}
