{
 "cells": [
  {
   "cell_type": "code",
   "execution_count": 56,
   "metadata": {},
   "outputs": [],
   "source": [
    "def clockwise(M):\n",
    "    M1 = [[0 for i in range(len(M[0]))] for j in range(len(M))]\n",
    "    \n",
    "    for i in range(0,len(M)):\n",
    "        for j in range(0, len(M[0])):\n",
    "            M1[i][j]= M[j][i]\n",
    "    #print(M1)\n",
    "            \n",
    "    for k in range(0, len(M1)):\n",
    "        M1[k]=M1[k][::-1]\n",
    "            \n",
    "    return(M1)\n",
    "            "
   ]
  },
  {
   "cell_type": "code",
   "execution_count": 58,
   "metadata": {},
   "outputs": [
    {
     "name": "stdout",
     "output_type": "stream",
     "text": [
      "Clock-wise rotated matrix:\n"
     ]
    },
    {
     "data": {
      "text/plain": [
       "[[7, 4, 1], [8, 5, 2], [9, 6, 3]]"
      ]
     },
     "execution_count": 58,
     "metadata": {},
     "output_type": "execute_result"
    }
   ],
   "source": [
    "M = [[1, 2, 3],\n",
    "     [4, 5, 6],\n",
    "     [7, 8, 9]]\n",
    "print('Clock-wise rotated matrix:')\n",
    "clockwise(M)"
   ]
  },
  {
   "cell_type": "code",
   "execution_count": 48,
   "metadata": {},
   "outputs": [],
   "source": [
    "def transpose(M):\n",
    "    M1 = [[0 for i in range(len(M[0]))] for j in range(len(M))]\n",
    "    \n",
    "    for i in range(len(M)-1,-1,-1):\n",
    "        for j in range(len(M[0])-1,-1,-1):\n",
    "            M1[i][j]= M[j][i]\n",
    "    print(M1)\n",
    "                        \n",
    "            "
   ]
  },
  {
   "cell_type": "code",
   "execution_count": 54,
   "metadata": {},
   "outputs": [
    {
     "name": "stdout",
     "output_type": "stream",
     "text": [
      "Transposed Matrix:\n",
      "\n",
      "[[1, 4, 7], [2, 5, 8], [3, 6, 9]]\n"
     ]
    }
   ],
   "source": [
    "M2 = [[1, 2, 3],\n",
    "     [4, 5, 6],\n",
    "     [7, 8, 9]]\n",
    "print('Transposed Matrix:\\n')\n",
    "transpose(M2)"
   ]
  },
  {
   "cell_type": "code",
   "execution_count": 52,
   "metadata": {},
   "outputs": [],
   "source": [
    "def counterClock(M):\n",
    "    M1 = [[0 for i in range(len(M[0]))] for j in range(len(M))]\n",
    "    \n",
    "    for i in range(len(M)-1,-1,-1):\n",
    "        for j in range(len(M[0])-1,-1,-1):\n",
    "            M1[i][j]= M[j][i]\n",
    "    for i in range(len(M1)-1, -1,-1):\n",
    "        print(M1[i])\n",
    "                 "
   ]
  },
  {
   "cell_type": "code",
   "execution_count": 60,
   "metadata": {},
   "outputs": [
    {
     "name": "stdout",
     "output_type": "stream",
     "text": [
      "Counter clock-wise rotation:\n",
      "[3, 6, 9]\n",
      "[2, 5, 8]\n",
      "[1, 4, 7]\n"
     ]
    }
   ],
   "source": [
    "M3 = [[1, 2, 3],\n",
    "     [4, 5, 6],\n",
    "     [7, 8, 9]]\n",
    "print('Counter clock-wise rotation:')\n",
    "counterClock(M3)"
   ]
  },
  {
   "cell_type": "code",
   "execution_count": null,
   "metadata": {},
   "outputs": [],
   "source": []
  }
 ],
 "metadata": {
  "kernelspec": {
   "display_name": "Python 3",
   "language": "python",
   "name": "python3"
  },
  "language_info": {
   "codemirror_mode": {
    "name": "ipython",
    "version": 3
   },
   "file_extension": ".py",
   "mimetype": "text/x-python",
   "name": "python",
   "nbconvert_exporter": "python",
   "pygments_lexer": "ipython3",
   "version": "3.7.3"
  }
 },
 "nbformat": 4,
 "nbformat_minor": 4
}
