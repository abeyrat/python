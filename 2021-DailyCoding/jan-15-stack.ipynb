{
 "cells": [
  {
   "cell_type": "code",
   "execution_count": 38,
   "metadata": {},
   "outputs": [
    {
     "name": "stdout",
     "output_type": "stream",
     "text": [
      "[1, 5, 2, 4, 3, 3]\n"
     ]
    }
   ],
   "source": [
    "mystack = []\n",
    "arr = [1, 2, 3, 4,5]\n",
    "for i in range(0,len(arr)):\n",
    "    mystack.append(arr[i])\n",
    "i =0\n",
    "new = mystack[::-1]\n",
    "#print('new',new)\n",
    "a = []\n",
    "if len(arr)//2 ==0:\n",
    "    L = len(arr)/2\n",
    "else:\n",
    "    L = len(arr)/2 -1\n",
    "while i < len(arr)/2 :\n",
    "    x = new.pop()\n",
    "    #print(x)\n",
    "    a.append(x)\n",
    "    y = mystack.pop()\n",
    "    a.append(y)\n",
    "    i +=1\n",
    "    \n",
    "print(a)\n",
    "    \n",
    "    \n",
    "        \n"
   ]
  },
  {
   "cell_type": "code",
   "execution_count": null,
   "metadata": {},
   "outputs": [],
   "source": []
  }
 ],
 "metadata": {
  "kernelspec": {
   "display_name": "Python 3",
   "language": "python",
   "name": "python3"
  },
  "language_info": {
   "codemirror_mode": {
    "name": "ipython",
    "version": 3
   },
   "file_extension": ".py",
   "mimetype": "text/x-python",
   "name": "python",
   "nbconvert_exporter": "python",
   "pygments_lexer": "ipython3",
   "version": "3.7.3"
  }
 },
 "nbformat": 4,
 "nbformat_minor": 4
}
