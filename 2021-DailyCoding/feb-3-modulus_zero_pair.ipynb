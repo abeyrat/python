{
 "cells": [
  {
   "cell_type": "code",
   "execution_count": 96,
   "metadata": {},
   "outputs": [],
   "source": [
    "def zeroModulusPair(arr):\n",
    "    arr.sort(reverse = False)\n",
    "    print(arr)\n",
    "    a = []\n",
    "    for i in range (0, len(arr)):\n",
    "        for j in range(1, len(arr)):\n",
    "            if arr[i]%arr[j] ==0 or arr[j]% arr[i] ==0:\n",
    "                if arr[i] not in a:\n",
    "                    a.append(arr[i])\n",
    "                if arr[j] not in a:\n",
    "                    a.append(arr[j])\n",
    "    print(a)\n",
    "            "
   ]
  },
  {
   "cell_type": "code",
   "execution_count": 95,
   "metadata": {},
   "outputs": [
    {
     "name": "stdout",
     "output_type": "stream",
     "text": [
      "[1, 4, 7, 8, 16]\n",
      "[1, 4, 7, 8, 16]\n"
     ]
    }
   ],
   "source": [
    "arr1 = [1,3,6,24]\n",
    "arr2 = [3, 5, 10, 20, 21]\n",
    "arr = [1, 16, 7, 8, 4] \n",
    "zeroModulusPair(arr)"
   ]
  },
  {
   "cell_type": "code",
   "execution_count": 24,
   "metadata": {},
   "outputs": [],
   "source": [
    "# Python 3 program to find largest divisible \n",
    "# subset in a given array \n",
    "  \n",
    "# Prints largest divisible subset \n",
    "def findLargest(arr, n): \n",
    "      \n",
    "    # We first sort the array so that all divisors \n",
    "    # of a number are before it. \n",
    "    arr.sort(reverse = False) \n",
    "  \n",
    "    # To store count of divisors of all elements \n",
    "    divCount = [1 for i in range(n)] \n",
    "  \n",
    "    # To store previous divisor in result \n",
    "    prev = [-1 for i in range(n)] \n",
    "  \n",
    "    # To store index of largest element in maximum \n",
    "    # size subset \n",
    "    max_ind = 0\n",
    "  \n",
    "    # In i'th iteration, we find length of chain \n",
    "    # ending with arr[i] \n",
    "    for i in range(1,n): \n",
    "        # Consider every smaller element as previous \n",
    "        # element. \n",
    "        for j in range(i): \n",
    "            if (arr[i] % arr[j] == 0): \n",
    "                if (divCount[i] < divCount[j] + 1): \n",
    "                    divCount[i] = divCount[j]+1\n",
    "                    prev[i] = j \n",
    "  \n",
    "        # Update last index of largest subset if size \n",
    "        # of current subset is more. \n",
    "        if (divCount[max_ind] < divCount[i]): \n",
    "            max_ind = i \n",
    "  \n",
    "    # Print result \n",
    "    k = max_ind \n",
    "    while (k >= 0): \n",
    "        print(arr[k],end = \" \") \n",
    "        k = prev[k] \n",
    "  "
   ]
  },
  {
   "cell_type": "code",
   "execution_count": 98,
   "metadata": {},
   "outputs": [
    {
     "name": "stdout",
     "output_type": "stream",
     "text": [
      "18 6 3 1 "
     ]
    }
   ],
   "source": [
    "arr1 = [1, 2, 17, 4] \n",
    "arr2 = [3, 5, 10, 20, 21]\n",
    "arr3 = [1, 16, 7, 8, 4] \n",
    "arr = [18, 1, 3, 6, 13, 17]\n",
    "n = len(arr) \n",
    "findLargest(arr, n) \n",
    "  "
   ]
  },
  {
   "cell_type": "code",
   "execution_count": 39,
   "metadata": {},
   "outputs": [
    {
     "data": {
      "text/plain": [
       "[-1, -1, -1, -1, -1]"
      ]
     },
     "execution_count": 39,
     "metadata": {},
     "output_type": "execute_result"
    }
   ],
   "source": [
    "prev = [-1 for i in range(5)] \n",
    "prev"
   ]
  },
  {
   "cell_type": "code",
   "execution_count": null,
   "metadata": {},
   "outputs": [],
   "source": [
    "# https://github.com/Collyboy/LeetCode-2/blob/master/Python/largest-divisible-subset.py"
   ]
  },
  {
   "cell_type": "code",
   "execution_count": 93,
   "metadata": {},
   "outputs": [],
   "source": [
    "class Solution(object):\n",
    "    def largestDivisibleSubset(self, nums):\n",
    "        \"\"\"\n",
    "        :type nums: List[int]\n",
    "        :rtype: List[int]\n",
    "        \"\"\"\n",
    "        if not nums:\n",
    "            return []\n",
    "\n",
    "        nums.sort()\n",
    "        dp = [1] * len(nums)\n",
    "        prev = [-1] * len(nums)\n",
    "        largest_idx = 0\n",
    "        for i in range(len(nums)):\n",
    "            for j in range(i):\n",
    "                #print('i = {}, j = {}'.format(i,j))\n",
    "                if nums[i] % nums[j] == 0:\n",
    "                    print('dp[i]', dp[i])\n",
    "                    if dp[i] < dp[j] + 1:\n",
    "                        print('dp[i]= {}, dp[j] = {}'.format(dp[i],dp[j]))                        \n",
    "                        dp[i] = dp[j] + 1\n",
    "                        print('nowdp[i]',dp[i])\n",
    "                        prev[i] = j\n",
    "                        print('what prev[i]',prev[i])\n",
    "        \n",
    "            if dp[largest_idx] < dp[i]:\n",
    "                largest_idx = i\n",
    "            print(dp)\n",
    "        \n",
    "\n",
    "        result = []\n",
    "        i = largest_idx\n",
    "        while i != -1:\n",
    "            result.append(nums[i])\n",
    "            i = prev[i]\n",
    "        return result[::-1]"
   ]
  },
  {
   "cell_type": "code",
   "execution_count": 94,
   "metadata": {},
   "outputs": [
    {
     "name": "stdout",
     "output_type": "stream",
     "text": [
      "[1, 1, 1, 1, 1]\n",
      "[1, 1, 1, 1, 1]\n",
      "dp[i] 1\n",
      "dp[i]= 1, dp[j] = 1\n",
      "nowdp[i] 2\n",
      "what prev[i] 1\n",
      "[1, 1, 2, 1, 1]\n",
      "dp[i] 1\n",
      "dp[i]= 1, dp[j] = 1\n",
      "nowdp[i] 2\n",
      "what prev[i] 1\n",
      "dp[i] 2\n",
      "dp[i]= 2, dp[j] = 2\n",
      "nowdp[i] 3\n",
      "what prev[i] 2\n",
      "[1, 1, 2, 3, 1]\n",
      "dp[i] 1\n",
      "dp[i]= 1, dp[j] = 1\n",
      "nowdp[i] 2\n",
      "what prev[i] 0\n",
      "[1, 1, 2, 3, 2]\n"
     ]
    },
    {
     "data": {
      "text/plain": [
       "[5, 10, 20]"
      ]
     },
     "execution_count": 94,
     "metadata": {},
     "output_type": "execute_result"
    }
   ],
   "source": [
    "nums = [3, 5, 10, 20, 21]\n",
    "obj = Solution()\n",
    "obj.largestDivisibleSubset(nums)"
   ]
  },
  {
   "cell_type": "code",
   "execution_count": 87,
   "metadata": {},
   "outputs": [
    {
     "data": {
      "text/plain": [
       "'This year is 2020.'"
      ]
     },
     "execution_count": 87,
     "metadata": {},
     "output_type": "execute_result"
    }
   ],
   "source": [
    "\"This year is \" + str(2020) + \".\""
   ]
  },
  {
   "cell_type": "code",
   "execution_count": null,
   "metadata": {},
   "outputs": [],
   "source": [
    "# \n",
    "https://tutorialspoint.dev/algorithm/dynamic-programming-algorithms/largest-divisible-pairs-subset"
   ]
  },
  {
   "cell_type": "code",
   "execution_count": 101,
   "metadata": {},
   "outputs": [],
   "source": [
    "# Python program to find the largest  \n",
    "# subset where each pair is divisible. \n",
    "  \n",
    "# function to find the longest Subsequence \n",
    "def largestSubset(a, n): \n",
    "      \n",
    "    # Sort array in \n",
    "    # increasing order \n",
    "    a.sort() \n",
    "      \n",
    "    # dp[i] is going to store size  \n",
    "    # of largest divisible subset  \n",
    "    # beginning with a[i]. \n",
    "    dp = [0 for i in range(n)] \n",
    "      \n",
    "    # Since last element is largest, \n",
    "    # d[n-1] is 1 \n",
    "    dp[n - 1] = 1;  \n",
    "  \n",
    "    # Fill values for smaller elements \n",
    "    for i in range(n - 2, -1, -1): \n",
    "          \n",
    "        # Find all multiples of a[i]  \n",
    "        # and consider the multiple  \n",
    "        # that has largest subset      \n",
    "        # beginning with it.  \n",
    "        mxm = 0; \n",
    "        for j in range(i + 1, n): \n",
    "            if a[j] % a[i] == 0: \n",
    "                mxm = max(mxm, dp[j]) \n",
    "        dp[i] = 1 + mxm \n",
    "          \n",
    "    # Return maximum value from dp[] \n",
    "    print(dp)\n",
    "    return max(dp) \n",
    "  "
   ]
  },
  {
   "cell_type": "code",
   "execution_count": 102,
   "metadata": {},
   "outputs": [
    {
     "name": "stdout",
     "output_type": "stream",
     "text": [
      "[4, 3, 2, 1, 1, 1]\n",
      "4\n"
     ]
    }
   ],
   "source": [
    "# Driver Code \n",
    "a = [ 1, 3, 6, 13, 17, 18 ] \n",
    "n = len(a) \n",
    "print(largestSubset(a, n)) \n",
    "  \n",
    "# This code is contributed by \n",
    "# sahil shelangia"
   ]
  },
  {
   "cell_type": "code",
   "execution_count": null,
   "metadata": {},
   "outputs": [],
   "source": []
  }
 ],
 "metadata": {
  "kernelspec": {
   "display_name": "Python 3",
   "language": "python",
   "name": "python3"
  },
  "language_info": {
   "codemirror_mode": {
    "name": "ipython",
    "version": 3
   },
   "file_extension": ".py",
   "mimetype": "text/x-python",
   "name": "python",
   "nbconvert_exporter": "python",
   "pygments_lexer": "ipython3",
   "version": "3.7.3"
  }
 },
 "nbformat": 4,
 "nbformat_minor": 4
}
