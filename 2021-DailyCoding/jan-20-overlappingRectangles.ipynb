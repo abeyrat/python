{
 "cells": [
  {
   "cell_type": "code",
   "execution_count": null,
   "metadata": {},
   "outputs": [],
   "source": [
    "def overLappRect(l1,l2):\n",
    "    print(l1[1],l2[0])\n",
    "    "
   ]
  },
  {
   "cell_type": "code",
   "execution_count": null,
   "metadata": {},
   "outputs": [],
   "source": [
    "l1 = (1,4)\n",
    "l2 = (0,5)\n",
    "wh1 = (3,3)\n",
    "wh2 = (4,3)\n",
    "overLappRect(l1,l2)"
   ]
  },
  {
   "cell_type": "code",
   "execution_count": 1,
   "metadata": {},
   "outputs": [],
   "source": [
    "class Point: \n",
    "    def __init__(self, x, y): \n",
    "        self.x = x \n",
    "        self.y = y\n",
    "# right or left        \n",
    "def isOverlapping(l1,l2,r1,r2): \n",
    "    if l1.x >= r2.x or l2.x >= r1.x:\n",
    "        return False\n",
    "    \n",
    "    #if above or below\n",
    "    if r2.y > l1.y or r1.y >= l2.y:\n",
    "        return False\n",
    "    \n",
    "    return True\n",
    "    \n",
    "\n",
    "    "
   ]
  },
  {
   "cell_type": "code",
   "execution_count": 2,
   "metadata": {},
   "outputs": [
    {
     "data": {
      "text/plain": [
       "True"
      ]
     },
     "execution_count": 2,
     "metadata": {},
     "output_type": "execute_result"
    }
   ],
   "source": [
    "l1 = Point(0,5)\n",
    "r1 = Point(3,2)\n",
    "l2 = Point(1,4)\n",
    "r2 = Point(4,3)\n",
    "\n",
    "isOverlapping(l1,l2,r1,r2)"
   ]
  },
  {
   "cell_type": "code",
   "execution_count": 3,
   "metadata": {},
   "outputs": [],
   "source": [
    "def overlappingArea(l1, r1, l2, r2):\n",
    "    x = 0\n",
    "    y = 1\n",
    " \n",
    "    # Area of 1st Rectangle\n",
    "    area1 = abs(l1[x] - r1[x]) * abs(l1[y] - r1[y])\n",
    " \n",
    "    # Area of 2nd Rectangle\n",
    "    area2 = abs(l2[x] - r2[x]) * abs(l2[y] - r2[y])\n",
    " \n",
    "    ''' Length of intersecting part i.e  \n",
    "        start from max(l1[x], l2[x]) of  \n",
    "        x-coordinate and end at min(r1[x], \n",
    "        r2[x]) x-coordinate by subtracting  \n",
    "        start from end we get required  \n",
    "        lengths '''\n",
    "    x_dist = (min(r1[x], r2[x]) -\n",
    "              max(l1[x], l2[x]))\n",
    " \n",
    "    y_dist = (min(r1[y], r2[y]) -\n",
    "              max(l1[y], l2[y]))\n",
    "    areaI = 0\n",
    "    if x_dist > 0 and y_dist > 0:\n",
    "        areaI = x_dist * y_dist\n",
    " \n",
    "    return (area1 + area2 - areaI)"
   ]
  },
  {
   "cell_type": "code",
   "execution_count": 6,
   "metadata": {},
   "outputs": [
    {
     "data": {
      "text/plain": [
       "14"
      ]
     },
     "execution_count": 6,
     "metadata": {},
     "output_type": "execute_result"
    }
   ],
   "source": [
    "l1 = (0,3)\n",
    "r1 = (4,5)\n",
    "l2 = (1,1)\n",
    "r2 = (4,4)\n",
    "overlappingArea(l1, r1, l2, r2)"
   ]
  },
  {
   "cell_type": "code",
   "execution_count": 7,
   "metadata": {},
   "outputs": [
    {
     "data": {
      "text/plain": [
       "24"
      ]
     },
     "execution_count": 7,
     "metadata": {},
     "output_type": "execute_result"
    }
   ],
   "source": [
    "# Driver's Code\n",
    "l1 = [2, 2]\n",
    "r1 = [5, 7]\n",
    "l2 = [3, 4]\n",
    "r2 = [6, 9]\n",
    "\n",
    "overlappingArea(l1, r1, l2, r2)"
   ]
  },
  {
   "cell_type": "code",
   "execution_count": 35,
   "metadata": {},
   "outputs": [
    {
     "name": "stdout",
     "output_type": "stream",
     "text": [
      "[[1, 1, 1], [1, 1, 1], [1, 1, 1]]\n",
      "[[1, 1, 1], [1, 1, 1], [1, 1, 1], [1, 1, 1]]\n"
     ]
    }
   ],
   "source": [
    "\n",
    "Matrix1 = [[1 for x in range(3)] for x in range(3)]\n",
    "print (Matrix1)\n",
    "Matrix2 = [[1 for x in range(3)] for x in range(4)]\n",
    "print(Matrix2)\n",
    "\n",
    "\n",
    "\n"
   ]
  },
  {
   "cell_type": "code",
   "execution_count": 42,
   "metadata": {},
   "outputs": [],
   "source": [
    "class Solution(object):\n",
    "    def computeArea(self, A, B, C, D, E, F, G, H):\n",
    "        \"\"\"\n",
    "        :type A: int\n",
    "        :type B: int\n",
    "        :type C: int\n",
    "        :type D: int\n",
    "        :type E: int\n",
    "        :type F: int\n",
    "        :type G: int\n",
    "        :type H: int\n",
    "        :rtype: int\n",
    "        \"\"\"\n",
    "        area = (C-A)*(D-B) + (G-E)*(H-F)\n",
    "        if A > G or C < E or D < F or B > H: \n",
    "            return area\n",
    "        else:\n",
    "            return area - (min(D, H)- max(B, F))*(min(C,G)- max(A,E))\n"
   ]
  },
  {
   "cell_type": "code",
   "execution_count": 45,
   "metadata": {},
   "outputs": [
    {
     "data": {
      "text/plain": [
       "15"
      ]
     },
     "execution_count": 45,
     "metadata": {},
     "output_type": "execute_result"
    }
   ],
   "source": [
    "A = 0\n",
    "B = 2\n",
    "C = 4\n",
    "D = 5\n",
    "E = 1\n",
    "F = 1\n",
    "G = 4\n",
    "H = 4\n",
    "obj = Solution()\n",
    "obj.computeArea( A, B, C, D, E, F, G, H)"
   ]
  },
  {
   "cell_type": "code",
   "execution_count": null,
   "metadata": {},
   "outputs": [],
   "source": []
  }
 ],
 "metadata": {
  "kernelspec": {
   "display_name": "Python 3",
   "language": "python",
   "name": "python3"
  },
  "language_info": {
   "codemirror_mode": {
    "name": "ipython",
    "version": 3
   },
   "file_extension": ".py",
   "mimetype": "text/x-python",
   "name": "python",
   "nbconvert_exporter": "python",
   "pygments_lexer": "ipython3",
   "version": "3.7.3"
  }
 },
 "nbformat": 4,
 "nbformat_minor": 4
}
