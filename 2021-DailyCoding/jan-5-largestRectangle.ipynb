{
 "cells": [
  {
   "cell_type": "code",
   "execution_count": null,
   "metadata": {},
   "outputs": [],
   "source": [
    "# https://www.tutorialspoint.com/program-to-find-largest-rectangle-area-\n",
    "# under-histogram-in-python"
   ]
  },
  {
   "cell_type": "code",
   "execution_count": null,
   "metadata": {},
   "outputs": [],
   "source": [
    "class Solution:\n",
    "   def solve(self, heights):\n",
    "      stk = [-1]\n",
    "      heights.append(0)\n",
    "      ans = 0\n",
    "      for i in range(len(heights)):        \n",
    "        #print(heights[i])\n",
    "        #print(heights[stk[-1]])\n",
    "        while heights[i] < heights[stk[-1]]:\n",
    "            #print('heights[i]= ', heights[i])\n",
    "            #print('heights[stk[-1]]',heights[stk[-1]] )\n",
    "            print('---------------')\n",
    "            h = heights[stk.pop()]\n",
    "            w = i - stk[-1] - 1\n",
    "            ans = max(ans, h * w)\n",
    "            stk.append(i)\n",
    "      return ans\n",
    "\n"
   ]
  },
  {
   "cell_type": "code",
   "execution_count": null,
   "metadata": {},
   "outputs": [],
   "source": [
    "ob = Solution()\n",
    "nums = [3, 2, 5, 7]\n",
    "print(ob.solve(nums))"
   ]
  },
  {
   "cell_type": "code",
   "execution_count": null,
   "metadata": {},
   "outputs": [],
   "source": [
    "ob = Solution()\n",
    "nums = [1,3,2,5,6,7,4]\n",
    "print(ob.solve(nums))"
   ]
  },
  {
   "cell_type": "code",
   "execution_count": 3,
   "metadata": {},
   "outputs": [],
   "source": [
    "class Solution(object):\n",
    "   def largestRectangleArea(self, heights):\n",
    "      stack = []\n",
    "      i = 0\n",
    "      ans = 0\n",
    "      while i < len(heights):\n",
    "         if len(stack) == 0 or heights[stack[-1]]<=heights[i]:\n",
    "            stack.append(i)\n",
    "            i+=1\n",
    "         else:\n",
    "            x = stack[-1]\n",
    "            stack.pop()\n",
    "            height = heights[x]\n",
    "            temp = height * (i-stack[-1]-1) if len(stack)!= 0 else height * i\n",
    "            ans = max(ans,temp)\n",
    "      while len(stack)>0:\n",
    "         x = stack[-1]\n",
    "         height = heights[x]\n",
    "         stack.pop()\n",
    "         temp = height * (len(heights)-stack[-1]-1) if len(stack)!= 0 else height* len(heights)\n",
    "         ans = max(ans,temp)\n",
    "      return ans\n"
   ]
  },
  {
   "cell_type": "code",
   "execution_count": 10,
   "metadata": {},
   "outputs": [
    {
     "name": "stdout",
     "output_type": "stream",
     "text": [
      "10\n"
     ]
    }
   ],
   "source": [
    "ob = Solution()\n",
    "print(ob.largestRectangleArea([2,1,5,7,3,2]))"
   ]
  },
  {
   "cell_type": "code",
   "execution_count": null,
   "metadata": {},
   "outputs": [],
   "source": [
    "ob = Solution()\n",
    "nums = [1,3,2,5,6,7,4]\n",
    "print(ob.largestRectangleArea(nums))"
   ]
  },
  {
   "cell_type": "code",
   "execution_count": null,
   "metadata": {},
   "outputs": [],
   "source": [
    "nums = [3, 2, 5, 7,0]\n",
    "stk = [-1]\n",
    "nums[stk[-1]]"
   ]
  },
  {
   "cell_type": "code",
   "execution_count": 4,
   "metadata": {},
   "outputs": [
    {
     "name": "stdout",
     "output_type": "stream",
     "text": [
      "15\n"
     ]
    }
   ],
   "source": [
    "ob = Solution()\n",
    "nums = [2,4,6,3,8,5]\n",
    "print(ob.largestRectangleArea(nums))"
   ]
  },
  {
   "cell_type": "code",
   "execution_count": 1,
   "metadata": {},
   "outputs": [],
   "source": [
    "class Sumana_Solution:\n",
    "   def solve(self, heights):\n",
    "      stk = [-1]\n",
    "      heights.append(0)\n",
    "      ans = 0\n",
    "      for i in range(len(heights)):\n",
    "         #print('------------')\n",
    "         #print('i = ',i)\n",
    "         #print('------------')\n",
    "         while heights[i] < heights[stk[-1]]:\n",
    "            #print('stk[-1]', stk[-1])\n",
    "            #print('heights[i]= ', heights[i])\n",
    "            #print('heights[stk[-1]]',heights[stk[-1]] )\n",
    "            #print('---------------')\n",
    "            h = heights[stk.pop()]\n",
    "            w = i - stk[-1] - 1\n",
    "            print('w and h',w,h)\n",
    "            ans = max(ans, h * w)\n",
    "         stk.append(i)\n",
    "      return ans\n",
    "\n"
   ]
  },
  {
   "cell_type": "code",
   "execution_count": null,
   "metadata": {},
   "outputs": [],
   "source": [
    "ob = Sumana_Solution()\n",
    "nums = [1,3, 2, 5]\n",
    "print(ob.solve(nums))"
   ]
  },
  {
   "cell_type": "code",
   "execution_count": 2,
   "metadata": {},
   "outputs": [
    {
     "name": "stdout",
     "output_type": "stream",
     "text": [
      "w and h 1 6\n",
      "w and h 2 4\n",
      "w and h 1 8\n",
      "w and h 2 5\n",
      "w and h 5 3\n",
      "w and h 6 2\n",
      "15\n"
     ]
    }
   ],
   "source": [
    "ob = Sumana_Solution()\n",
    "nums = [2,4,6,3,8,5]\n",
    "print(ob.solve(nums))"
   ]
  },
  {
   "cell_type": "code",
   "execution_count": null,
   "metadata": {},
   "outputs": [],
   "source": [
    "# good EXPLANATION\n",
    "# https://www.youtube.com/watch?v=lktr76SxB2w"
   ]
  },
  {
   "cell_type": "code",
   "execution_count": null,
   "metadata": {},
   "outputs": [],
   "source": [
    "# Best Explanation \n",
    "#https://www.youtube.com/watch?v=ZmnqCZp9bBs"
   ]
  },
  {
   "cell_type": "code",
   "execution_count": 13,
   "metadata": {},
   "outputs": [],
   "source": [
    "def newMethod(arr):\n",
    "    stack = []\n",
    "    area = 0\n",
    "    maxArea = 0\n",
    "    for i in range(0, len(arr)):\n",
    "        if len(stack) == 0 or stack[-1] <= arr[i]:\n",
    "            stack.append(i)\n",
    "        else:\n",
    "            tops = stack[-1]\n",
    "            if len(stack) == 0:\n",
    "                area = arr[tops]*i\n",
    "            else:\n",
    "                area = arr[tops]*(i-stack[-1]-1)\n",
    "            if area > maxArea:\n",
    "                maxArea = area\n",
    "    while len(stack) != 0:\n",
    "        tops = stack[-1]\n",
    "        if len(stack) == 0:\n",
    "            area = arr[tops]*i\n",
    "        else:\n",
    "            area = arr[tops]*(i-stack[-1]-1)\n",
    "        if area > maxArea:\n",
    "                maxArea = area\n",
    "    return maxArea\n",
    "    "
   ]
  },
  {
   "cell_type": "code",
   "execution_count": null,
   "metadata": {},
   "outputs": [],
   "source": [
    "\n",
    "nums = [2,4,6,3,8,5]\n",
    "newMethod(nums)"
   ]
  },
  {
   "cell_type": "code",
   "execution_count": null,
   "metadata": {},
   "outputs": [],
   "source": []
  },
  {
   "cell_type": "code",
   "execution_count": null,
   "metadata": {},
   "outputs": [],
   "source": []
  }
 ],
 "metadata": {
  "kernelspec": {
   "display_name": "Python 3",
   "language": "python",
   "name": "python3"
  },
  "language_info": {
   "codemirror_mode": {
    "name": "ipython",
    "version": 3
   },
   "file_extension": ".py",
   "mimetype": "text/x-python",
   "name": "python",
   "nbconvert_exporter": "python",
   "pygments_lexer": "ipython3",
   "version": "3.7.3"
  }
 },
 "nbformat": 4,
 "nbformat_minor": 4
}
