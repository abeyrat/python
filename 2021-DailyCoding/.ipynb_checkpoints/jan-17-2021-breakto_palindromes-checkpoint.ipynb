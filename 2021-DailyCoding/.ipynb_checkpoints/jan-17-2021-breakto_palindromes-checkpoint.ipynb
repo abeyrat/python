{
 "cells": [
  {
   "cell_type": "code",
   "execution_count": 71,
   "metadata": {},
   "outputs": [],
   "source": [
    "def finepalindrome(s):\n",
    "    arr = list(s)\n",
    "    A = []\n",
    "    i = 0\n",
    "    count = 0\n",
    "    L = len(arr)\n",
    "    x = []\n",
    "    for i in range(0, len(arr)):        \n",
    "        x.append(arr[i])\n",
    "        if len(x)>1:\n",
    "            if x == x[::-1]:\n",
    "                A.append(x)\n",
    "                count += 1\n",
    "                x = []\n",
    "                arr = arr[len(x):]\n",
    "\n",
    "            \n",
    "\n",
    "    print('count =',count)\n",
    "    print(A)\n",
    " \n",
    "        \n",
    "        \n",
    "   \n",
    "          \n",
    "           \n",
    "        "
   ]
  },
  {
   "cell_type": "code",
   "execution_count": 72,
   "metadata": {},
   "outputs": [
    {
     "name": "stdout",
     "output_type": "stream",
     "text": [
      "count = 3\n",
      "[['r', 'a', 'c', 'e', 'c', 'a', 'r'], ['a', 'n', 'n', 'a'], ['k', 'a', 'y', 'a', 'k']]\n"
     ]
    }
   ],
   "source": [
    "s = 'racecarmadammalayalam'\n",
    "s1 = 'racecarannakayak'\n",
    "s2 = 'abc'\n",
    "finepalindrome(s1)\n",
    "\n"
   ]
  },
  {
   "cell_type": "code",
   "execution_count": 63,
   "metadata": {},
   "outputs": [
    {
     "data": {
      "text/plain": [
       "False"
      ]
     },
     "execution_count": 63,
     "metadata": {},
     "output_type": "execute_result"
    }
   ],
   "source": [
    "def isPalindrome(s):\n",
    "    return s == s[::-1]\n",
    "\n",
    "strg = 'malayalam'\n",
    "strg2 = 'sumana'\n",
    "strg3 = list(strg2)\n",
    "isPalindrome(strg3)"
   ]
  },
  {
   "cell_type": "code",
   "execution_count": 41,
   "metadata": {},
   "outputs": [
    {
     "name": "stdout",
     "output_type": "stream",
     "text": [
      "Current Letter : P\n",
      "Current Letter : y\n",
      "Current Letter : t\n",
      "Current Letter : o\n",
      "Current Letter : n\n"
     ]
    }
   ],
   "source": [
    "for letter in 'Python':     # First Example\n",
    "   if letter == 'h':\n",
    "      continue\n",
    "   print ('Current Letter :', letter)"
   ]
  },
  {
   "cell_type": "code",
   "execution_count": 43,
   "metadata": {},
   "outputs": [
    {
     "name": "stdout",
     "output_type": "stream",
     "text": [
      "Current Letter : P\n",
      "Current Letter : y\n",
      "Current Letter : t\n"
     ]
    }
   ],
   "source": [
    "for letter in 'Python':     # First Example\n",
    "   if letter == 'h':\n",
    "      break\n",
    "   print ('Current Letter :', letter)"
   ]
  },
  {
   "cell_type": "code",
   "execution_count": 71,
   "metadata": {},
   "outputs": [
    {
     "name": "stdout",
     "output_type": "stream",
     "text": [
      "10 equals 2 * 5\n",
      "11 is a prime number\n",
      "12 equals 2 * 6\n",
      "13 is a prime number\n",
      "14 equals 2 * 7\n",
      "15 equals 3 * 5\n",
      "16 equals 2 * 8\n",
      "17 is a prime number\n",
      "18 equals 2 * 9\n",
      "19 is a prime number\n"
     ]
    }
   ],
   "source": [
    "for num in range(10,20):  #to iterate between 10 to 20\n",
    "   for i in range(2,num): #to iterate on the factors of the number\n",
    "      if num%i == 0:      #to determine the first factor\n",
    "         j=num/i #to calculate the second factor\n",
    "         print ('%d equals %d * %d' % (num,i,j))\n",
    "         break #to move to the next number, the #first FOR\n",
    "   else:        # else part of the loop\n",
    "      print (num, 'is a prime number')"
   ]
  },
  {
   "cell_type": "code",
   "execution_count": 99,
   "metadata": {},
   "outputs": [
    {
     "name": "stdout",
     "output_type": "stream",
     "text": [
      "codeedoc edoccode\n",
      "edocda daedoc\n",
      "dad dda\n"
     ]
    },
    {
     "data": {
      "text/plain": [
       "[(0, 1), (1, 0), (2, 3)]"
      ]
     },
     "execution_count": 99,
     "metadata": {},
     "output_type": "execute_result"
    }
   ],
   "source": [
    "def Solution_palindrome (arr):\n",
    "    B = []\n",
    "    i = 0\n",
    "    while i < len(arr)-1:\n",
    "        A = []\n",
    "        lis1 = arr[i]+arr[i+1]\n",
    "        lis2 = arr[i+1]+arr[i]\n",
    "        if lis1 == lis1[::-1]:\n",
    "            A.append(i)\n",
    "            A.append(i+1)\n",
    "            B.append(tuple(A))\n",
    "            A = []\n",
    "        if lis2 == lis2[::-1]:\n",
    "            A.append(i+1)\n",
    "            A.append(i) \n",
    "            B.append(tuple(A))\n",
    "            A = []\n",
    "        print(lis1,lis2)\n",
    "        i += 1\n",
    "        \n",
    "    return B\n",
    " \n",
    "arr = [\"code\", \"edoc\", \"da\", \"d\"]\n",
    "Solution_palindrome(arr)"
   ]
  },
  {
   "cell_type": "code",
   "execution_count": null,
   "metadata": {},
   "outputs": [],
   "source": []
  }
 ],
 "metadata": {
  "kernelspec": {
   "display_name": "Python 3",
   "language": "python",
   "name": "python3"
  },
  "language_info": {
   "codemirror_mode": {
    "name": "ipython",
    "version": 3
   },
   "file_extension": ".py",
   "mimetype": "text/x-python",
   "name": "python",
   "nbconvert_exporter": "python",
   "pygments_lexer": "ipython3",
   "version": "3.7.3"
  }
 },
 "nbformat": 4,
 "nbformat_minor": 4
}
