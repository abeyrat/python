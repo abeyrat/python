{
 "cells": [
  {
   "cell_type": "code",
   "execution_count": 73,
   "metadata": {},
   "outputs": [],
   "source": [
    "def findWord(s, words):\n",
    "    wordList = list(words)\n",
    "    w1 = wordList[0] + wordList[1]\n",
    "    w2 = wordList[1] + wordList[0]\n",
    "    print(w1, w2)\n",
    "    a = []\n",
    "    result1 = s.find(w1)\n",
    "    result2 = s.find(w2)\n",
    "    a.append(result1)\n",
    "    a.append(result2)\n",
    "    if result1 != -1:\n",
    "        print('string contains {} at {}'.format(w1,result1))\n",
    "    else:\n",
    "        print('string doe not contains {}'.format(w1))\n",
    "    if result2 != -1:\n",
    "        print('string contains {} at {}'.format(w2,result2))\n",
    "    else:\n",
    "        print('string doe not contains {}'.format(w2))\n",
    "    print(tuple(a))\n",
    "    "
   ]
  },
  {
   "cell_type": "code",
   "execution_count": 75,
   "metadata": {},
   "outputs": [
    {
     "name": "stdout",
     "output_type": "stream",
     "text": [
      "catdog dogcat\n",
      "string contains catdog at 13\n",
      "string contains dogcat at 0\n",
      "(13, 0)\n"
     ]
    }
   ],
   "source": [
    "s = \"dogcatcatcodecatdogcatdog\" \n",
    "words = [\"cat\", \"dog\"]\n",
    "findWord(s, words)"
   ]
  },
  {
   "cell_type": "code",
   "execution_count": 76,
   "metadata": {},
   "outputs": [
    {
     "name": "stdout",
     "output_type": "stream",
     "text": [
      "dogcat catdog\n",
      "string doe not contains dogcat\n",
      "string doe not contains catdog\n",
      "(-1, -1)\n"
     ]
    }
   ],
   "source": [
    "s = \"barfoobazbitbyte\" \n",
    "words = [\"dog\", \"cat\"] \n",
    "findWord(s, words)"
   ]
  },
  {
   "cell_type": "code",
   "execution_count": null,
   "metadata": {},
   "outputs": [],
   "source": []
  },
  {
   "cell_type": "code",
   "execution_count": null,
   "metadata": {},
   "outputs": [],
   "source": []
  }
 ],
 "metadata": {
  "kernelspec": {
   "display_name": "Python 3",
   "language": "python",
   "name": "python3"
  },
  "language_info": {
   "codemirror_mode": {
    "name": "ipython",
    "version": 3
   },
   "file_extension": ".py",
   "mimetype": "text/x-python",
   "name": "python",
   "nbconvert_exporter": "python",
   "pygments_lexer": "ipython3",
   "version": "3.7.3"
  }
 },
 "nbformat": 4,
 "nbformat_minor": 4
}
