{
 "cells": [
  {
   "cell_type": "code",
   "execution_count": 1,
   "metadata": {},
   "outputs": [],
   "source": [
    "# Python program to print all permutations with \n",
    "# duplicates allowed \n",
    "  \n",
    "def toString(List): \n",
    "    return ''.join(List) \n",
    "  \n",
    "# Function to print permutations of string \n",
    "# This function takes three parameters: \n",
    "# 1. String \n",
    "# 2. Starting index of the string \n",
    "# 3. Ending index of the string. \n",
    "def permute(a, l, r): \n",
    "    if l == r:\n",
    "        print (toString(a)) \n",
    "    else: \n",
    "        for i in range(l, r + 1): \n",
    "            a[l], a[i] = a[i], a[l] \n",
    "            permute(a, l + 1, r) \n",
    "            a[l], a[i] = a[i], a[l] # backtrack"
   ]
  },
  {
   "cell_type": "code",
   "execution_count": 4,
   "metadata": {},
   "outputs": [
    {
     "name": "stdout",
     "output_type": "stream",
     "text": [
      "ABC\n",
      "ACB\n",
      "BAC\n",
      "BCA\n",
      "CBA\n",
      "CAB\n"
     ]
    }
   ],
   "source": [
    "# Driver program to test the above function \n",
    "string = \"ABC\"\n",
    "n = len(string) \n",
    "a = list(string) \n",
    "permute(a, 0, n-1)"
   ]
  },
  {
   "cell_type": "code",
   "execution_count": 10,
   "metadata": {},
   "outputs": [],
   "source": [
    "def toString(List): \n",
    "    return ''.join(List)"
   ]
  },
  {
   "cell_type": "code",
   "execution_count": 14,
   "metadata": {},
   "outputs": [
    {
     "data": {
      "text/plain": [
       "'sum'"
      ]
     },
     "execution_count": 14,
     "metadata": {},
     "output_type": "execute_result"
    }
   ],
   "source": [
    "List = ['s','u','m']\n",
    "toString(List)"
   ]
  },
  {
   "cell_type": "code",
   "execution_count": 15,
   "metadata": {},
   "outputs": [
    {
     "data": {
      "text/plain": [
       "['m', 'a', 'd', 'a', 'm']"
      ]
     },
     "execution_count": 15,
     "metadata": {},
     "output_type": "execute_result"
    }
   ],
   "source": [
    "list('madam')"
   ]
  },
  {
   "cell_type": "code",
   "execution_count": 144,
   "metadata": {},
   "outputs": [],
   "source": [
    "# Function to swap two characters in a character array\n",
    "def swap(ch, i, j):\n",
    "    temp = ch[i]\n",
    "    ch[i] = ch[j]\n",
    "    ch[j] = temp\n",
    "  \n",
    "# Recursive function to generate all permutations of a String\n",
    "def permutations(ch, curr_index=0):\n",
    "    \n",
    "    if curr_index == len(ch) - 1:\n",
    "        #print('len(ch) - 1', len(ch) - 1) # 2\n",
    "        print(''.join(ch))\n",
    "    \n",
    "    \n",
    "    for i in range(curr_index, len(ch)):\n",
    "        print('indexes = ',curr_index,i)\n",
    "        swap(ch, curr_index, i)\n",
    "        permutations(ch, curr_index + 1)\n",
    "        swap(ch, curr_index, i) # swap them back the way they were \n",
    "        \n",
    "    \n",
    "\n",
    "\n",
    "\n",
    " \n"
   ]
  },
  {
   "cell_type": "code",
   "execution_count": 145,
   "metadata": {},
   "outputs": [
    {
     "name": "stdout",
     "output_type": "stream",
     "text": [
      "indexes =  0 0\n",
      "indexes =  1 1\n",
      "ABC\n",
      "indexes =  2 2\n",
      "indexes =  1 2\n",
      "ACB\n",
      "indexes =  2 2\n",
      "indexes =  0 1\n",
      "indexes =  1 1\n",
      "BAC\n",
      "indexes =  2 2\n",
      "indexes =  1 2\n",
      "BCA\n",
      "indexes =  2 2\n",
      "indexes =  0 2\n",
      "indexes =  1 1\n",
      "CBA\n",
      "indexes =  2 2\n",
      "indexes =  1 2\n",
      "CAB\n",
      "indexes =  2 2\n"
     ]
    }
   ],
   "source": [
    "s = \"ABC\"\n",
    "permutations(list(s))\n",
    " "
   ]
  },
  {
   "cell_type": "code",
   "execution_count": 33,
   "metadata": {},
   "outputs": [
    {
     "name": "stdout",
     "output_type": "stream",
     "text": [
      "abs\n"
     ]
    }
   ],
   "source": [
    "ch = 'abs'\n",
    "print(''.join(ch))"
   ]
  },
  {
   "cell_type": "code",
   "execution_count": 5,
   "metadata": {},
   "outputs": [],
   "source": [
    "# http://hpca23.cse.tamu.edu/taco/utsa-www/ut/utsa/cs3343/lecture25.html"
   ]
  },
  {
   "cell_type": "code",
   "execution_count": 22,
   "metadata": {},
   "outputs": [],
   "source": [
    "def toString(List): \n",
    "    return ''.join(List) \n",
    "  \n",
    "# Function to print permutations of string \n",
    "# This function takes three parameters: \n",
    "# 1. String \n",
    "# 2. Starting index of the string \n",
    "# 3. Ending index of the string. \n",
    "def permute(a, l, r): \n",
    "    if l == r:\n",
    "        print('i am here', l, r)\n",
    "        print (toString(a)) \n",
    "    else: \n",
    "        for i in range(l, r + 1): \n",
    "            a[l], a[i] = a[i], a[l] \n",
    "            permute(a, l + 1, r) \n",
    "            a[l], a[i] = a[i], a[l] # backtrack"
   ]
  },
  {
   "cell_type": "code",
   "execution_count": 23,
   "metadata": {},
   "outputs": [
    {
     "name": "stdout",
     "output_type": "stream",
     "text": [
      "i am here 1 1\n",
      "AB\n",
      "i am here 1 1\n",
      "BA\n"
     ]
    }
   ],
   "source": [
    "# Driver program to test the above function \n",
    "string = \"AB\"\n",
    "n = len(string) \n",
    "a = list(string) \n",
    "\n",
    "permute(a, 0, n-1)"
   ]
  },
  {
   "cell_type": "code",
   "execution_count": 17,
   "metadata": {},
   "outputs": [
    {
     "name": "stdout",
     "output_type": "stream",
     "text": [
      "['welcome', 'to', 'the', 'jungle']\n",
      "['w', 'e', 'l', 'c', 'o', 'm', 'e', ' ', 't', 'o', ' ', 't', 'h', 'e', ' ', 'j', 'u', 'n', 'g', 'l', 'e']\n"
     ]
    }
   ],
   "source": [
    "txt = \"welcome to the jungle\"\n",
    "\n",
    "x = txt.split()\n",
    "\n",
    "print(x)\n",
    "print(list(txt))\n"
   ]
  },
  {
   "cell_type": "code",
   "execution_count": null,
   "metadata": {},
   "outputs": [],
   "source": []
  },
  {
   "cell_type": "code",
   "execution_count": null,
   "metadata": {},
   "outputs": [],
   "source": []
  }
 ],
 "metadata": {
  "kernelspec": {
   "display_name": "Python 3",
   "language": "python",
   "name": "python3"
  },
  "language_info": {
   "codemirror_mode": {
    "name": "ipython",
    "version": 3
   },
   "file_extension": ".py",
   "mimetype": "text/x-python",
   "name": "python",
   "nbconvert_exporter": "python",
   "pygments_lexer": "ipython3",
   "version": "3.7.3"
  }
 },
 "nbformat": 4,
 "nbformat_minor": 4
}
