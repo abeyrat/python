{
 "cells": [
  {
   "cell_type": "markdown",
   "metadata": {},
   "source": [
    "# convert to binary"
   ]
  },
  {
   "cell_type": "markdown",
   "metadata": {},
   "source": [
    "# https://www.geeksforgeeks.org/maximum-consecutive-ones-or-zeros-in-a-binary-array/"
   ]
  },
  {
   "cell_type": "code",
   "execution_count": null,
   "metadata": {},
   "outputs": [],
   "source": [
    "\n",
    "def convertToBinary(num, A):\n",
    "    if num == 0:\n",
    "        return A\n",
    "    if num > 1:\n",
    "        y = num//2\n",
    "        convertToBinary(y, A)\n",
    "    A.append(num%2)\n",
    "    print(num%2, end = ' ')\n",
    "    return('A is :', A) \n"
   ]
  },
  {
   "cell_type": "code",
   "execution_count": null,
   "metadata": {},
   "outputs": [],
   "source": [
    "A = []\n",
    "convertToBinary(156, A)"
   ]
  },
  {
   "cell_type": "code",
   "execution_count": null,
   "metadata": {},
   "outputs": [],
   "source": [
    "A = []\n",
    "convertToBinary(20, A)"
   ]
  },
  {
   "cell_type": "markdown",
   "metadata": {},
   "source": [
    "\n",
    "# get the maximum"
   ]
  },
  {
   "cell_type": "code",
   "execution_count": null,
   "metadata": {},
   "outputs": [],
   "source": [
    "def getMaxLength(arr, n): \n",
    "  \n",
    "    # intitialize count \n",
    "    count = 0 \n",
    "      \n",
    "    # initialize max \n",
    "    result = 0 \n",
    "  \n",
    "    for i in range(0, n): \n",
    "      \n",
    "        # Reset count when 0 is found \n",
    "        if (arr[i] == 0): \n",
    "            count = 0\n",
    "  \n",
    "        # If 1 is found, increment count \n",
    "        # and update result if count  \n",
    "        # becomes more. \n",
    "        else: \n",
    "              \n",
    "            # increase count \n",
    "            count+= 1 \n",
    "            result = max(result, count)  \n",
    "          \n",
    "    return result   "
   ]
  },
  {
   "cell_type": "code",
   "execution_count": null,
   "metadata": {},
   "outputs": [],
   "source": [
    "# Driver code \n",
    "arr = [1, 1, 0, 0, 1, 0, 1,  \n",
    "             0, 1, 1, 1, 1]  \n",
    "n = len(arr)  \n",
    "  \n",
    "print(getMaxLength(arr, n)) "
   ]
  },
  {
   "cell_type": "code",
   "execution_count": 17,
   "metadata": {},
   "outputs": [],
   "source": [
    "def getMaximum_ones(num, A):\n",
    "    if num == 0:\n",
    "        return A\n",
    "    if num > 1:\n",
    "        y = num//2\n",
    "        getMaximum_ones(y, A)\n",
    "    A.append(num%2)\n",
    "    print(num%2, end = ' ')\n",
    "    #return('A is :', A) \n",
    "\n",
    "    n = len(A)\n",
    "    count = 0\n",
    "    result = 0\n",
    "    for i in range(0, n):\n",
    "        if A[i] == 0:\n",
    "            count = 0\n",
    "        else:\n",
    "            count += 1\n",
    "            result = max(result, count)\n",
    "    #print('\\nmaximum consecutive ones:')\n",
    "    return result"
   ]
  },
  {
   "cell_type": "code",
   "execution_count": 18,
   "metadata": {},
   "outputs": [
    {
     "name": "stdout",
     "output_type": "stream",
     "text": [
      "1 0 0 1 1 1 0 0 "
     ]
    },
    {
     "data": {
      "text/plain": [
       "3"
      ]
     },
     "execution_count": 18,
     "metadata": {},
     "output_type": "execute_result"
    }
   ],
   "source": [
    "A = []\n",
    "getMaximum_ones(156, A)"
   ]
  },
  {
   "cell_type": "code",
   "execution_count": 27,
   "metadata": {},
   "outputs": [
    {
     "name": "stdout",
     "output_type": "stream",
     "text": [
      "1 1 1 1 1 "
     ]
    },
    {
     "data": {
      "text/plain": [
       "5"
      ]
     },
     "execution_count": 27,
     "metadata": {},
     "output_type": "execute_result"
    }
   ],
   "source": [
    "A = []\n",
    "getMaximum_ones(31, A)"
   ]
  },
  {
   "cell_type": "code",
   "execution_count": 28,
   "metadata": {},
   "outputs": [
    {
     "name": "stdout",
     "output_type": "stream",
     "text": [
      "1 1 1 1 1 0 0 1 1 "
     ]
    },
    {
     "data": {
      "text/plain": [
       "5"
      ]
     },
     "execution_count": 28,
     "metadata": {},
     "output_type": "execute_result"
    }
   ],
   "source": [
    "A = []\n",
    "getMaximum_ones(499, A)"
   ]
  },
  {
   "cell_type": "code",
   "execution_count": null,
   "metadata": {},
   "outputs": [],
   "source": []
  }
 ],
 "metadata": {
  "kernelspec": {
   "display_name": "Python 3",
   "language": "python",
   "name": "python3"
  },
  "language_info": {
   "codemirror_mode": {
    "name": "ipython",
    "version": 3
   },
   "file_extension": ".py",
   "mimetype": "text/x-python",
   "name": "python",
   "nbconvert_exporter": "python",
   "pygments_lexer": "ipython3",
   "version": "3.7.3"
  }
 },
 "nbformat": 4,
 "nbformat_minor": 4
}
