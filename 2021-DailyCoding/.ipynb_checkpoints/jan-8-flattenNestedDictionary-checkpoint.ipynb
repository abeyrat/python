{
 "cells": [
  {
   "cell_type": "code",
   "execution_count": null,
   "metadata": {},
   "outputs": [],
   "source": [
    "# https://codereview.stackexchange.com/questions/21033/flatten-dictionary-in-python-functional-style"
   ]
  },
  {
   "cell_type": "code",
   "execution_count": null,
   "metadata": {},
   "outputs": [],
   "source": [
    "test = {'a': 1, 'c': {'a': 2, 'b': {'x': 5, 'y' : 10}}, 'd': [1, 2, 3]}\n",
    "\n",
    "def parse_dict(init, lkey=''):\n",
    "    ret = {}\n",
    "    for rkey,val in init.items():\n",
    "        key = lkey+rkey\n",
    "        if isinstance(val, dict):\n",
    "            ret.update(parse_dict(val, key+'_'))\n",
    "        else:\n",
    "            ret[key] = val\n",
    "    return ret\n",
    "\n",
    "print(parse_dict(test,''))"
   ]
  },
  {
   "cell_type": "code",
   "execution_count": null,
   "metadata": {},
   "outputs": [],
   "source": [
    "marks = '90'\n",
    "result = isinstance(marks, int)\n",
    "if result :\n",
    "  print(\"Yes! given variable is an instance of type int\")\n",
    "else:\n",
    "  print(\"No! given variable is not an instance of type int\")"
   ]
  },
  {
   "cell_type": "code",
   "execution_count": null,
   "metadata": {},
   "outputs": [],
   "source": [
    "def recurse(t,parent_key=\"\"):\n",
    "    \n",
    "    if isinstance(t,list):\n",
    "        # loop through list and call recurse()\n",
    "        pass\n",
    "    elif isinstance(t,dict):\n",
    "        # loop through dictionary and call recurse()\n",
    "        pass\n",
    "    else:\n",
    "        # use the parent_key and store the value to obj\n",
    "        obj[parent_key] = t"
   ]
  },
  {
   "cell_type": "code",
   "execution_count": null,
   "metadata": {},
   "outputs": [],
   "source": [
    "t = [1,2,3,4]\n",
    "recurse(t,parent_key=\"\")"
   ]
  },
  {
   "cell_type": "code",
   "execution_count": null,
   "metadata": {},
   "outputs": [],
   "source": []
  },
  {
   "cell_type": "code",
   "execution_count": null,
   "metadata": {},
   "outputs": [],
   "source": [
    "#https://codereview.stackexchange.com/questions/21033/flatten-dictionary-in-python-functional-style"
   ]
  },
  {
   "cell_type": "code",
   "execution_count": null,
   "metadata": {},
   "outputs": [],
   "source": [
    "def flatten_dict1(d):\n",
    "    def items():\n",
    "        for key, value in d.items():\n",
    "            if isinstance(value, dict):\n",
    "                for subkey, subvalue in flatten_dict1(value).items():\n",
    "                    yield key + \".\" + subkey, subvalue\n",
    "            else:\n",
    "                yield key, value\n",
    "\n",
    "    return dict(items())"
   ]
  },
  {
   "cell_type": "code",
   "execution_count": null,
   "metadata": {},
   "outputs": [],
   "source": [
    "def flatten_dict2(d):\n",
    "    def expand(key, value):\n",
    "        if isinstance(value, dict):\n",
    "            return [ (key + '.' + k, v) for k, v in flatten_dict2(value).items() ]\n",
    "        else:\n",
    "            return [ (key, value) ]\n",
    "\n",
    "    items = [ item for k, v in d.items() for item in expand(k, v) ]\n",
    "    #print(items)\n",
    "    \n",
    "\n",
    "    return dict(items)"
   ]
  },
  {
   "cell_type": "code",
   "execution_count": null,
   "metadata": {},
   "outputs": [],
   "source": [
    "test = {'a': 1, 'c': {'a': 2, 'b': {'x': 5, 'y' : 10}}, 'd': [1, 2, 3]}\n",
    "flatten_dict1(test)"
   ]
  },
  {
   "cell_type": "code",
   "execution_count": null,
   "metadata": {},
   "outputs": [],
   "source": [
    "test2 = {'a': 1, 'c': {'a': 2, 'b': {'x': 5, 'y' : 10}}, 'd': [1, 2, 3]}\n",
    "flatten_dict2(test2)"
   ]
  },
  {
   "cell_type": "code",
   "execution_count": null,
   "metadata": {},
   "outputs": [],
   "source": [
    "def flatten_dict1_sumana(d):\n",
    "    def items():\n",
    "        for key, value in d.items():\n",
    "            #print('value\\n',key,value)\n",
    "            if isinstance(value, dict):\n",
    "                print('key =',key)\n",
    "                for subkey, subvalue in flatten_dict1_sumana(value).items():\n",
    "                    yield key + \".\" + subkey, subvalue\n",
    "            else:\n",
    "                yield key, value\n",
    "\n",
    "    return dict(items())"
   ]
  },
  {
   "cell_type": "code",
   "execution_count": null,
   "metadata": {},
   "outputs": [],
   "source": [
    "dd = {'a': 1, 'c': {'a': 2, 'b': {'x': 5, 'y' : 10}}, 'd': [1, 2, 3]}\n",
    "flatten_dict1_sumana(dd)"
   ]
  },
  {
   "cell_type": "code",
   "execution_count": null,
   "metadata": {},
   "outputs": [],
   "source": [
    "dictionary = {'a': 1, 'c': {'a': 2, 'b': {'x': 5, 'y' : 10}}, 'd': [1, 2, 3]}\n",
    "dict_variable = {key:value for (key,value) in dictionary.items()}\n",
    "dict_variable"
   ]
  },
  {
   "cell_type": "code",
   "execution_count": null,
   "metadata": {},
   "outputs": [],
   "source": [
    "arr = [1,2,3,4]\n",
    "x = list(arr[i] for i in range(0,len(arr)))\n",
    "isinstance(x,list)"
   ]
  },
  {
   "cell_type": "code",
   "execution_count": null,
   "metadata": {},
   "outputs": [],
   "source": [
    "D = {(k,v): k+v for k in range(2) for v in range(2)}\n",
    "print(D)"
   ]
  },
  {
   "cell_type": "code",
   "execution_count": null,
   "metadata": {},
   "outputs": [],
   "source": [
    "# is equivalent to\n",
    "D = {}\n",
    "for k in range(2):\n",
    "    for v in range(2):\n",
    "        D[(k,v)] = k+v\n",
    "print(D)"
   ]
  },
  {
   "cell_type": "code",
   "execution_count": 5,
   "metadata": {},
   "outputs": [],
   "source": [
    "def flatten_dict2_modified(d):\n",
    "    def expand(key, value):\n",
    "        if isinstance(value, dict):\n",
    "            return [ (key + '.' + k, v) for k, v in flatten_dict2_modified(value).items() ]\n",
    "        else:\n",
    "            return [ (key, value) ]\n",
    "\n",
    "    mylist = [ item for k, v in d.items() for item in expand(k, v) ]\n",
    "    #print(items)\n",
    "    \n",
    "\n",
    "    return dict(mylist)"
   ]
  },
  {
   "cell_type": "code",
   "execution_count": 6,
   "metadata": {},
   "outputs": [
    {
     "data": {
      "text/plain": [
       "{'a': 1, 'c.a': 2, 'c.b.x': 5, 'c.b.y': 10, 'd': [1, 2, 3]}"
      ]
     },
     "execution_count": 6,
     "metadata": {},
     "output_type": "execute_result"
    }
   ],
   "source": [
    "dd = {'a': 1, 'c': {'a': 2, 'b': {'x': 5, 'y' : 10}}, 'd': [1, 2, 3]}\n",
    "flatten_dict2_modified(dd)"
   ]
  },
  {
   "cell_type": "code",
   "execution_count": null,
   "metadata": {},
   "outputs": [],
   "source": []
  }
 ],
 "metadata": {
  "kernelspec": {
   "display_name": "Python 3",
   "language": "python",
   "name": "python3"
  },
  "language_info": {
   "codemirror_mode": {
    "name": "ipython",
    "version": 3
   },
   "file_extension": ".py",
   "mimetype": "text/x-python",
   "name": "python",
   "nbconvert_exporter": "python",
   "pygments_lexer": "ipython3",
   "version": "3.7.3"
  }
 },
 "nbformat": 4,
 "nbformat_minor": 4
}
