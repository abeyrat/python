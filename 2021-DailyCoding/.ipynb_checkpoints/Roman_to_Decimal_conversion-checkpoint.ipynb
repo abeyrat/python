{
 "cells": [
  {
   "cell_type": "code",
   "execution_count": 60,
   "metadata": {},
   "outputs": [
    {
     "name": "stdout",
     "output_type": "stream",
     "text": [
      "The decimal value of XVIII is 18\n"
     ]
    }
   ],
   "source": [
    "def romanTOdecimal(adict, roman):\n",
    "    listOFvalues = list()\n",
    "    listOFitems = adict.items() # get key-value pairs in the dictionary\n",
    "  \n",
    "    y = list(roman) # split the Roman numeral to Roman characters\n",
    "    # if the Roman numeral has one character return the value from the dictionary\n",
    "    if len(y) ==1:\n",
    "        for item  in listOFitems:\n",
    "            if item[0] == y[0]:\n",
    "                listOFvalues.append(item[1])\n",
    "        return  listOFvalues\n",
    "    \n",
    "    # if the Roman numeral has more than one character return all values corresponding to each Roman character\n",
    "    #from the dictionary and build listOFvalues list\n",
    "    if len(y) > 1:\n",
    "        for i in range(0, len(y)):\n",
    "            for item  in listOFitems:\n",
    "                if item[0] == y[i]:\n",
    "                    listOFvalues.append(item[1])\n",
    "    # iterate through the list backwards\n",
    "    # if the current value is less than or equal to the next value then add two values\n",
    "    # if the current value is greater than the next value then subtract the next value from the current value\n",
    "    i = 0\n",
    "    value = listOFvalues[-1] # assign the last element of the list to value\n",
    "    while i < (len(listOFvalues)-1):\n",
    "        if listOFvalues[-1-i] <= listOFvalues[-2-i]:\n",
    "            value = value + listOFvalues[-2-i]\n",
    "            i +=1\n",
    "        else:\n",
    "            value = value - listOFvalues[-2-i]\n",
    "            i += 1\n",
    "    return value\n",
    "\n",
    "\n",
    "# Driver code\n",
    "adict = {\n",
    "    'M': 1000,\n",
    "    'D': 500,\n",
    "    'C': 100,\n",
    "    'L': 50,\n",
    "    'X': 10,\n",
    "    'V': 5,\n",
    "    'I': 1\n",
    "}\n",
    "\n",
    "roman = 'XVIII'\n",
    "result = romanTOdecimal(adict, roman)\n",
    "print(\"The decimal value of {} is\".format(roman), result)\n",
    "\n"
   ]
  },
  {
   "cell_type": "code",
   "execution_count": null,
   "metadata": {},
   "outputs": [],
   "source": []
  }
 ],
 "metadata": {
  "kernelspec": {
   "display_name": "Python 3",
   "language": "python",
   "name": "python3"
  },
  "language_info": {
   "codemirror_mode": {
    "name": "ipython",
    "version": 3
   },
   "file_extension": ".py",
   "mimetype": "text/x-python",
   "name": "python",
   "nbconvert_exporter": "python",
   "pygments_lexer": "ipython3",
   "version": "3.7.3"
  }
 },
 "nbformat": 4,
 "nbformat_minor": 4
}
