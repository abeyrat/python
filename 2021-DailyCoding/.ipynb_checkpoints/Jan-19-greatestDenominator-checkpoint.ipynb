{
 "cells": [
  {
   "cell_type": "code",
   "execution_count": null,
   "metadata": {},
   "outputs": [],
   "source": [
    "def greatestDenominator(arr):\n",
    "    arr = sorted(arr)\n",
    "    print(arr)\n",
    "    x = arr[0]\n",
    "    i = 0\n",
    "\n",
    "for i in range(0, len(arr)):\n",
    "    if arr[i]//arr[0] == 0:\n",
    "        print('arr[i]',arr[i])\n",
    "    else:\n",
    "        print('can divide', arr[i])\n",
    "  \n",
    "\n",
    "        "
   ]
  },
  {
   "cell_type": "code",
   "execution_count": null,
   "metadata": {},
   "outputs": [],
   "source": [
    "arr = [42, 56, 14]\n",
    "greatestDenominator(arr)"
   ]
  },
  {
   "cell_type": "code",
   "execution_count": null,
   "metadata": {},
   "outputs": [],
   "source": [
    "print(1+14)"
   ]
  },
  {
   "cell_type": "code",
   "execution_count": 13,
   "metadata": {},
   "outputs": [],
   "source": [
    "#start = 11\n",
    "#end = 25\n",
    "def primeNumbers(start,end):\n",
    "    \n",
    "    for i in range(start,end):\n",
    "      if i>1:\n",
    "        for j in range(2,i):\n",
    "            if(i % j==0):\n",
    "                break\n",
    "        else:\n",
    "            print(i)"
   ]
  },
  {
   "cell_type": "code",
   "execution_count": 14,
   "metadata": {},
   "outputs": [
    {
     "name": "stdout",
     "output_type": "stream",
     "text": [
      "11\n",
      "13\n",
      "17\n",
      "19\n",
      "23\n"
     ]
    }
   ],
   "source": [
    "primeNumbers(11,25)"
   ]
  },
  {
   "cell_type": "code",
   "execution_count": 37,
   "metadata": {},
   "outputs": [
    {
     "name": "stdout",
     "output_type": "stream",
     "text": [
      "my x, y: 12 36\n",
      "----\n",
      "now x =36, now y =12\n",
      "----\n",
      "now x =12, now y =0\n",
      "return x 12\n",
      "my x, y: 12 4\n",
      "----\n",
      "now x =4, now y =0\n",
      "return x 4\n",
      "my x, y: 4 60\n",
      "----\n",
      "now x =60, now y =4\n",
      "----\n",
      "now x =4, now y =0\n",
      "return x 4\n",
      "my x, y: 4 8\n",
      "----\n",
      "now x =8, now y =4\n",
      "----\n",
      "now x =4, now y =0\n",
      "return x 4\n",
      "4\n"
     ]
    }
   ],
   "source": [
    "# GCD of more than two (or array) numbers \n",
    "  \n",
    "# Function implements the Euclidian\n",
    "# algorithm to find H.C.F. of two number \n",
    "def find_gcd(x, y): \n",
    "    print('my x, y:',x,y)  \n",
    "    while(y):\n",
    "        print('----')\n",
    "        x, y = y, x % y\n",
    "        print('now x ={}, now y ={}'.format(x,y))\n",
    "        \n",
    "    print('return x',x)  \n",
    "    return x \n",
    "          \n",
    "# Driver Code         \n",
    "l1 = [2, 4, 6, 8, 16]\n",
    "l  = [12,36,4,60,8]\n",
    "  \n",
    "num1 = l[0] \n",
    "num2 = l[1] \n",
    "gcd = find_gcd(num1, num2) \n",
    "  \n",
    "for i in range(2, len(l)): \n",
    "    gcd = find_gcd(gcd, l[i]) \n",
    "      \n",
    "print(gcd)"
   ]
  },
  {
   "cell_type": "code",
   "execution_count": 6,
   "metadata": {},
   "outputs": [
    {
     "name": "stdout",
     "output_type": "stream",
     "text": [
      "100\n"
     ]
    }
   ],
   "source": [
    "#l = [42, 56, 14,28]\n",
    "l2 = [15,225,30,60,45]\n",
    "l =1000,200,500,300\n",
    "\n",
    "  \n",
    "num1 = l[0] \n",
    "num2 = l[1] \n",
    "gcd = find_gcd(num1, num2) \n",
    "  \n",
    "for i in range(2, len(l)): \n",
    "    gcd = find_gcd(gcd, l[i]) \n",
    "      \n",
    "print(gcd)"
   ]
  },
  {
   "cell_type": "code",
   "execution_count": 7,
   "metadata": {},
   "outputs": [
    {
     "data": {
      "text/plain": [
       "2"
      ]
     },
     "execution_count": 7,
     "metadata": {},
     "output_type": "execute_result"
    }
   ],
   "source": [
    "5%3"
   ]
  },
  {
   "cell_type": "code",
   "execution_count": 23,
   "metadata": {},
   "outputs": [
    {
     "data": {
      "text/plain": [
       "10"
      ]
     },
     "execution_count": 23,
     "metadata": {},
     "output_type": "execute_result"
    }
   ],
   "source": [
    "10%15"
   ]
  },
  {
   "cell_type": "code",
   "execution_count": 26,
   "metadata": {},
   "outputs": [
    {
     "name": "stdout",
     "output_type": "stream",
     "text": [
      "4\n"
     ]
    }
   ],
   "source": [
    "x = 4\n",
    "y = 12\n",
    "\n",
    "print(x % y)\n"
   ]
  },
  {
   "cell_type": "code",
   "execution_count": 33,
   "metadata": {},
   "outputs": [
    {
     "data": {
      "text/plain": [
       "4"
      ]
     },
     "execution_count": 33,
     "metadata": {},
     "output_type": "execute_result"
    }
   ],
   "source": [
    "4%36"
   ]
  },
  {
   "cell_type": "code",
   "execution_count": 34,
   "metadata": {},
   "outputs": [
    {
     "data": {
      "text/plain": [
       "0"
      ]
     },
     "execution_count": 34,
     "metadata": {},
     "output_type": "execute_result"
    }
   ],
   "source": [
    "36%4"
   ]
  },
  {
   "cell_type": "code",
   "execution_count": null,
   "metadata": {},
   "outputs": [],
   "source": []
  }
 ],
 "metadata": {
  "kernelspec": {
   "display_name": "Python 3",
   "language": "python",
   "name": "python3"
  },
  "language_info": {
   "codemirror_mode": {
    "name": "ipython",
    "version": 3
   },
   "file_extension": ".py",
   "mimetype": "text/x-python",
   "name": "python",
   "nbconvert_exporter": "python",
   "pygments_lexer": "ipython3",
   "version": "3.7.3"
  }
 },
 "nbformat": 4,
 "nbformat_minor": 4
}
