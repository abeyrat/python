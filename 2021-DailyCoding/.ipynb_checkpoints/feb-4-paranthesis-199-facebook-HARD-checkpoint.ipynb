{
 "cells": [
  {
   "cell_type": "markdown",
   "metadata": {},
   "source": [
    "This problem was asked by Facebook.\n",
    "\n",
    "Given a string of parentheses, find the balanced string that can be produced from it using the minimum number of insertions and deletions. If there are multiple solutions, return any of them.\n",
    "\n",
    "For example, given \"(()\", you could return \"(())\". Given \"))()(\", you could return \"()()()()\"."
   ]
  },
  {
   "cell_type": "code",
   "execution_count": 35,
   "metadata": {},
   "outputs": [],
   "source": [
    "def unbalenced(arr):\n",
    "    left = []\n",
    "    right = []\n",
    "    rightcount = 0\n",
    "    leftcount = 0\n",
    "    A = []\n",
    "    for i in range(0,len(arr)):\n",
    "        if arr[i] == \"(\":\n",
    "            left.append(arr[i])\n",
    "        else:            \n",
    "            right.append(arr[i])\n",
    "    for i in range(0, len(left)):\n",
    "        if len(right) != 0:\n",
    "            r = right.pop()\n",
    "            y = left.pop()+r\n",
    "            A.append(y)\n",
    "   \n",
    "    if len (left) !=0:\n",
    "        #print(len(left))\n",
    "        for i in range(len(left)):\n",
    "            l = left.pop()\n",
    "            y = l + str(')')\n",
    "            A.append(y)\n",
    "            rightcount += 1\n",
    "            \n",
    "    if len (right) !=0:\n",
    "        #print(len(right))\n",
    "        for i in range(len(right)):\n",
    "            r = right.pop()\n",
    "            y =  str('(')+r\n",
    "            A.append(y)\n",
    "            leftcount += 1\n",
    "    print('# of left brackets added = {}'.format(leftcount))\n",
    "    print('# of right brackets added = {}'.format(rightcount))\n",
    "    return A\n",
    "\n",
    "  \n",
    "            \n",
    "\n",
    "            "
   ]
  },
  {
   "cell_type": "code",
   "execution_count": null,
   "metadata": {},
   "outputs": [],
   "source": []
  },
  {
   "cell_type": "code",
   "execution_count": null,
   "metadata": {},
   "outputs": [],
   "source": [
    "\n"
   ]
  },
  {
   "cell_type": "code",
   "execution_count": 39,
   "metadata": {},
   "outputs": [
    {
     "name": "stdout",
     "output_type": "stream",
     "text": [
      "# of left brackets added = 5\n",
      "# of right brackets added = 0\n"
     ]
    },
    {
     "data": {
      "text/plain": [
       "['()', '()', '()', '()', '()', '()', '()', '()', '()']"
      ]
     },
     "execution_count": 39,
     "metadata": {},
     "output_type": "execute_result"
    }
   ],
   "source": [
    "arr2 = \"(()\"\n",
    "arr1 = \"))()(\"\n",
    "arr = \"(((()))))))))\"\n",
    "unbalenced(arr)"
   ]
  },
  {
   "cell_type": "code",
   "execution_count": null,
   "metadata": {},
   "outputs": [],
   "source": []
  }
 ],
 "metadata": {
  "kernelspec": {
   "display_name": "Python 3",
   "language": "python",
   "name": "python3"
  },
  "language_info": {
   "codemirror_mode": {
    "name": "ipython",
    "version": 3
   },
   "file_extension": ".py",
   "mimetype": "text/x-python",
   "name": "python",
   "nbconvert_exporter": "python",
   "pygments_lexer": "ipython3",
   "version": "3.7.3"
  }
 },
 "nbformat": 4,
 "nbformat_minor": 4
}
