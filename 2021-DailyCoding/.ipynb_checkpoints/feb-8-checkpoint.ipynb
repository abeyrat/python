{
 "cells": [
  {
   "cell_type": "code",
   "execution_count": null,
   "metadata": {},
   "outputs": [],
   "source": [
    "def Toeplitz(M):\n",
    "    row = len(M)\n",
    "    column = len(M[0])\n",
    "    print(column)\n",
    "    for i in range(0, row-1):\n",
    "        for j in range(0, column-1):\n",
    "            if M[i][j] == M[j][i]:\n",
    "                print('yes')\n",
    "    while i <=row-2 and j <= column-2:\n",
    "        if M[i][j] != M[i+1][j+1]:\n",
    "            print('now No')\n",
    "            i +=1\n",
    "            j += 1\n"
   ]
  },
  {
   "cell_type": "code",
   "execution_count": null,
   "metadata": {},
   "outputs": [],
   "source": [
    "M = [[1, 2, 3, 4, 8],\n",
    "     [5, 1, 2, 3, 4],\n",
    "     [4, 5, 1, 2, 3],\n",
    "     [7, 4, 5, 1, 2]]\n",
    "\n",
    "Toeplitz(M)"
   ]
  },
  {
   "cell_type": "markdown",
   "metadata": {},
   "source": [
    "# correct solution"
   ]
  },
  {
   "cell_type": "code",
   "execution_count": 64,
   "metadata": {},
   "outputs": [],
   "source": [
    "# Python3 program to check whether given matrix\n",
    "# is a Toeplitz matrix or not\n",
    " \n",
    "def isToeplitz(matrix):\n",
    "     \n",
    "    # row = number of rows\n",
    "    # col = number of columns\n",
    "    row = len(matrix)\n",
    "    col = len(matrix[0])\n",
    "     \n",
    "    # dictionary to store key,value pairs\n",
    "    map = {}\n",
    "    for i in range(row):\n",
    "        for j in range(col):\n",
    "            key = i-j\n",
    "            print('i = ',i)\n",
    "            print('diff', key)\n",
    "             \n",
    "            # if key value exists in the map,\n",
    "            if (key in map):                \n",
    "                # we check whether the current value stored\n",
    "                # in this key matches to element at current\n",
    "                # index or not. If not, return false\n",
    "                if (map[key] != matrix[i][j]):\n",
    "                    print('ahh !!')\n",
    "                    return False\n",
    "             \n",
    "            # else we put key,value pair in map\n",
    "            else:\n",
    "                map[key] = matrix[i][j]\n",
    "                print('key, value pair',matrix[i][j])\n",
    "    return True\n",
    " "
   ]
  },
  {
   "cell_type": "code",
   "execution_count": 65,
   "metadata": {},
   "outputs": [
    {
     "name": "stdout",
     "output_type": "stream",
     "text": [
      "i =  0\n",
      "diff 0\n",
      "key, value pair 1\n",
      "i =  0\n",
      "diff -1\n",
      "key, value pair 2\n",
      "i =  0\n",
      "diff -2\n",
      "key, value pair 3\n",
      "i =  0\n",
      "diff -3\n",
      "key, value pair 11\n",
      "i =  0\n",
      "diff -4\n",
      "key, value pair 8\n",
      "i =  1\n",
      "diff 1\n",
      "key, value pair 5\n",
      "i =  1\n",
      "diff 0\n",
      "i =  1\n",
      "diff -1\n",
      "i =  1\n",
      "diff -2\n",
      "i =  1\n",
      "diff -3\n",
      "ahh !!\n",
      "No\n"
     ]
    }
   ],
   "source": [
    "matrix1 = [[1, 2, 3, 10, 8],\n",
    "          [5, 1, 2, 3, 10],\n",
    "          [4, 5, 1, 2, 3],      \n",
    "          [7, 4, 5, 1, 2]]\n",
    "\n",
    "matrix = [[1, 2, 3, 11, 8],\n",
    "          [5, 1, 2, 3, 10],\n",
    "          [4, 5, 1, 2, 3],      \n",
    "          [7, 4, 5, 1, 2]]\n",
    "# Function call\n",
    "if (isToeplitz(matrix)):\n",
    "    print(\"Yes\")\n",
    "else:\n",
    "    print(\"No\")"
   ]
  },
  {
   "cell_type": "code",
   "execution_count": 63,
   "metadata": {},
   "outputs": [
    {
     "name": "stdout",
     "output_type": "stream",
     "text": [
      "{0: 1}\n",
      "--- 1\n",
      "{0: 1, -1: 2}\n",
      "--- 2\n",
      "{0: 1, -1: 2, -2: 3}\n",
      "--- 3\n",
      "{0: 1, -1: 2, -2: 3, -3: 4}\n",
      "--- 4\n",
      "{0: 1, -1: 2, -2: 3, -3: 4, -4: 8}\n",
      "--- 8\n",
      "{0: 1, -1: 2, -2: 3, -3: 4, -4: 8, 1: 5}\n",
      "--- 5\n",
      "{0: 1, -1: 2, -2: 3, -3: 4, -4: 8, 1: 5}\n",
      "--- 1\n",
      "{0: 1, -1: 2, -2: 3, -3: 4, -4: 8, 1: 5}\n",
      "--- 2\n",
      "{0: 1, -1: 2, -2: 3, -3: 4, -4: 8, 1: 5}\n",
      "--- 3\n",
      "{0: 1, -1: 2, -2: 3, -3: 4, -4: 8, 1: 5}\n",
      "--- 4\n",
      "{0: 1, -1: 2, -2: 3, -3: 4, -4: 8, 1: 5, 2: 4}\n",
      "--- 4\n",
      "{0: 1, -1: 2, -2: 3, -3: 4, -4: 8, 1: 5, 2: 4}\n",
      "--- 5\n",
      "{0: 1, -1: 2, -2: 3, -3: 4, -4: 8, 1: 5, 2: 4}\n",
      "--- 1\n",
      "{0: 1, -1: 2, -2: 3, -3: 4, -4: 8, 1: 5, 2: 4}\n",
      "--- 2\n",
      "{0: 1, -1: 2, -2: 3, -3: 4, -4: 8, 1: 5, 2: 4}\n",
      "--- 3\n",
      "{0: 1, -1: 2, -2: 3, -3: 4, -4: 8, 1: 5, 2: 4, 3: 7}\n",
      "--- 7\n",
      "{0: 1, -1: 2, -2: 3, -3: 4, -4: 8, 1: 5, 2: 4, 3: 7}\n",
      "--- 4\n",
      "{0: 1, -1: 2, -2: 3, -3: 4, -4: 8, 1: 5, 2: 4, 3: 7}\n",
      "--- 5\n",
      "{0: 1, -1: 2, -2: 3, -3: 4, -4: 8, 1: 5, 2: 4, 3: 7}\n",
      "--- 1\n",
      "{0: 1, -1: 2, -2: 3, -3: 4, -4: 8, 1: 5, 2: 4, 3: 7}\n",
      "--- 2\n"
     ]
    }
   ],
   "source": [
    "M= [[1, 2, 3, 4, 8],\n",
    "     [5, 1, 2, 3, 4],\n",
    "     [4, 5, 1, 2, 3],\n",
    "     [7, 4, 5, 1, 2]]\n",
    "map = {}\n",
    "#key = 3-0\n",
    "for i in range (0,4):\n",
    "    for j in range(0,5):\n",
    "        key = i-j\n",
    "        map[key] = M[i][j]\n",
    "        print(map)\n",
    "        print('---',map[key])"
   ]
  },
  {
   "cell_type": "code",
   "execution_count": 60,
   "metadata": {},
   "outputs": [],
   "source": [
    "another_tuple = 'spam',"
   ]
  },
  {
   "cell_type": "code",
   "execution_count": 61,
   "metadata": {},
   "outputs": [
    {
     "data": {
      "text/plain": [
       "tuple"
      ]
     },
     "execution_count": 61,
     "metadata": {},
     "output_type": "execute_result"
    }
   ],
   "source": [
    "type(another_tuple)"
   ]
  },
  {
   "cell_type": "code",
   "execution_count": 29,
   "metadata": {},
   "outputs": [],
   "source": [
    "a = 1,2,3\n",
    "aa = tuple(a)"
   ]
  },
  {
   "cell_type": "code",
   "execution_count": 30,
   "metadata": {},
   "outputs": [
    {
     "data": {
      "text/plain": [
       "tuple"
      ]
     },
     "execution_count": 30,
     "metadata": {},
     "output_type": "execute_result"
    }
   ],
   "source": [
    "type(aa)"
   ]
  },
  {
   "cell_type": "code",
   "execution_count": 41,
   "metadata": {},
   "outputs": [
    {
     "data": {
      "text/plain": [
       "[1, 2, 3, 4]"
      ]
     },
     "execution_count": 41,
     "metadata": {},
     "output_type": "execute_result"
    }
   ],
   "source": [
    "x = [1,2,3]\n",
    "x.append(4)\n",
    "x"
   ]
  },
  {
   "cell_type": "code",
   "execution_count": 50,
   "metadata": {},
   "outputs": [
    {
     "name": "stdout",
     "output_type": "stream",
     "text": [
      "this will execute\n"
     ]
    }
   ],
   "source": [
    "d = {\"key1\": 10, \"key2\": 23}\n",
    "\n",
    "if \"key1\" in d:\n",
    "    print(\"this will execute\")\n",
    "\n",
    "if \"nonexistent key\" in d:\n",
    "    print(\"this will not\")\n",
    "    \n",
    "if 23 in d:\n",
    "    print(\"yes\")"
   ]
  },
  {
   "cell_type": "code",
   "execution_count": 56,
   "metadata": {},
   "outputs": [
    {
     "name": "stdout",
     "output_type": "stream",
     "text": [
      "i =  0\n",
      "diff 0\n",
      "key, value pair 1\n",
      "i =  0\n",
      "diff -1\n",
      "key, value pair 9\n",
      "i =  0\n",
      "diff -2\n",
      "key, value pair 3\n",
      "i =  0\n",
      "diff -3\n",
      "key, value pair 10\n",
      "i =  0\n",
      "diff -4\n",
      "key, value pair 8\n",
      "i =  1\n",
      "diff 1\n",
      "key, value pair 5\n",
      "i =  1\n",
      "diff 0\n",
      "i =  1\n",
      "diff -1\n",
      "No\n"
     ]
    }
   ],
   "source": [
    "matrix = [[1, 9, 3, 10, 8],\n",
    "          [5, 1, 2, 3, 10],\n",
    "          [4, 5, 1, 2, 3],      \n",
    "          [7, 4, 5, 1, 2]]\n",
    "\n",
    "\n",
    "# Function call\n",
    "if (isToeplitz(matrix)):\n",
    "    print(\"Yes\")\n",
    "else:\n",
    "    print(\"No\")"
   ]
  },
  {
   "cell_type": "code",
   "execution_count": null,
   "metadata": {},
   "outputs": [],
   "source": []
  }
 ],
 "metadata": {
  "kernelspec": {
   "display_name": "Python 3",
   "language": "python",
   "name": "python3"
  },
  "language_info": {
   "codemirror_mode": {
    "name": "ipython",
    "version": 3
   },
   "file_extension": ".py",
   "mimetype": "text/x-python",
   "name": "python",
   "nbconvert_exporter": "python",
   "pygments_lexer": "ipython3",
   "version": "3.7.3"
  }
 },
 "nbformat": 4,
 "nbformat_minor": 4
}
