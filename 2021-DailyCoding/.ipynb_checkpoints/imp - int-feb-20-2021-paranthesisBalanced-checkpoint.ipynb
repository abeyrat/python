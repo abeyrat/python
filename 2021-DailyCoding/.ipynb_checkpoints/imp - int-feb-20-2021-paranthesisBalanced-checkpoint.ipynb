{
 "cells": [
  {
   "cell_type": "markdown",
   "metadata": {},
   "source": [
    "also see imp-imp-oct_12-stringofParentheses\n"
   ]
  },
  {
   "cell_type": "code",
   "execution_count": 1,
   "metadata": {},
   "outputs": [],
   "source": [
    "def StrParenth (st):\n",
    "    left = []\n",
    "    cost = 0\n",
    "    list1 = list(st)\n",
    "    #print(list1)\n",
    "    for i, ch in enumerate(list1):\n",
    "        if ch == '(':\n",
    "            left.append(ch)\n",
    "            #print(right)\n",
    "        if ch == ')':\n",
    "            if len(left) != 0:\n",
    "                #print('left length:', len(left))\n",
    "                left.pop()\n",
    "                #print('now left length:', len(left))\n",
    "            elif len(left) == 0:\n",
    "                cost += 1\n",
    "                #print('here cost is :',cost)\n",
    "    x = len(left)\n",
    "        #print(' element in left is',x) \n",
    "    cost += x        \n",
    "    print('cost is =', cost)\n",
    "    "
   ]
  },
  {
   "cell_type": "code",
   "execution_count": 2,
   "metadata": {},
   "outputs": [
    {
     "name": "stdout",
     "output_type": "stream",
     "text": [
      "cost is = 2\n"
     ]
    }
   ],
   "source": [
    "st =  \"()()()((()\"\n",
    "StrParenth(st)"
   ]
  },
  {
   "cell_type": "code",
   "execution_count": 3,
   "metadata": {},
   "outputs": [
    {
     "name": "stdout",
     "output_type": "stream",
     "text": [
      "cost is = 2\n"
     ]
    }
   ],
   "source": [
    "st =  \")(\"\n",
    "StrParenth(st)"
   ]
  },
  {
   "cell_type": "code",
   "execution_count": 4,
   "metadata": {},
   "outputs": [
    {
     "name": "stdout",
     "output_type": "stream",
     "text": [
      "cost is = 0\n"
     ]
    }
   ],
   "source": [
    "st =  \"()\"\n",
    "StrParenth(st)"
   ]
  },
  {
   "cell_type": "code",
   "execution_count": 6,
   "metadata": {},
   "outputs": [
    {
     "name": "stdout",
     "output_type": "stream",
     "text": [
      "cost is = 8\n"
     ]
    }
   ],
   "source": [
    "ss = '))()(()())))()((())(((' # correct answer is 8\n",
    "StrParenth(ss)"
   ]
  },
  {
   "cell_type": "code",
   "execution_count": 7,
   "metadata": {},
   "outputs": [
    {
     "name": "stdout",
     "output_type": "stream",
     "text": [
      "cost is = 4\n"
     ]
    }
   ],
   "source": [
    "sss = '))()(()())))' # correct answer is 4\n",
    "StrParenth(sss)"
   ]
  },
  {
   "cell_type": "code",
   "execution_count": null,
   "metadata": {},
   "outputs": [],
   "source": []
  }
 ],
 "metadata": {
  "kernelspec": {
   "display_name": "Python 3",
   "language": "python",
   "name": "python3"
  },
  "language_info": {
   "codemirror_mode": {
    "name": "ipython",
    "version": 3
   },
   "file_extension": ".py",
   "mimetype": "text/x-python",
   "name": "python",
   "nbconvert_exporter": "python",
   "pygments_lexer": "ipython3",
   "version": "3.7.3"
  }
 },
 "nbformat": 4,
 "nbformat_minor": 4
}
