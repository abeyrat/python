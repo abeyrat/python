{
 "cells": [
  {
   "cell_type": "code",
   "execution_count": 17,
   "metadata": {},
   "outputs": [
    {
     "name": "stdout",
     "output_type": "stream",
     "text": [
      "temp.data 5\n",
      "temp.data 4\n",
      "temp.data 3\n",
      "temp.data 2\n",
      "temp.data 1\n",
      "1 root.next = <__main__.Node object at 0x105699a90>\n",
      "2 root.next = <__main__.Node object at 0x105699908>\n",
      "3 root.next = <__main__.Node object at 0x105699978>\n",
      "4 root.next = <__main__.Node object at 0x1056999e8>\n",
      "5 root.next = None\n"
     ]
    }
   ],
   "source": [
    "# Python3 program to prlevel order traversal  \n",
    "# in spiral form using one queue and one stack.  \n",
    "  \n",
    "# Representation of a Node  \n",
    "class Node:  \n",
    "    def __init__(self, data):  \n",
    "        self.data = data  \n",
    "        self.next = next\n",
    "  \n",
    "# Function to insert Node  \n",
    "def insert(root, item):  \n",
    "    temp = Node(0)\n",
    "    temp.data = item  \n",
    "    print('temp.data', temp.data)\n",
    "    temp.next = root  \n",
    "    root = temp \n",
    "    return root  \n",
    "  \n",
    "def display(root):  \n",
    "    while (root != None):  \n",
    "        print(root.data, end=\" \")\n",
    "        print('root.next =', root.next)\n",
    "        root = root.next \n",
    "  \n",
    "def arrayToList(arr, n):  \n",
    "    root = None \n",
    "    for i in range(n - 1, -1, -1):  \n",
    "        root = insert(root, arr[i]) \n",
    "    return root  \n",
    "  \n",
    "\n",
    "\n",
    "    \n",
    "    # Driver code  \n",
    "if __name__ == '__main__':  \n",
    "    arr = [1, 2, 3, 4, 5];  \n",
    "    n = len(arr)  \n",
    "    root = arrayToList(arr, n);  \n",
    "    display(root)\n",
    "\n",
    "\n",
    "  \n",
    "# This code is contributed by 29AjayKumar  "
   ]
  },
  {
   "cell_type": "code",
   "execution_count": 12,
   "metadata": {},
   "outputs": [
    {
     "name": "stdout",
     "output_type": "stream",
     "text": [
      "temp.data 5\n",
      "temp.data 4\n",
      "temp.data 3\n",
      "temp.data 2\n",
      "temp.data 1\n",
      "1 root.next = <__main__.Node object at 0x105697a20>\n",
      "2 root.next = <__main__.Node object at 0x105697940>\n",
      "3 root.next = <__main__.Node object at 0x1056974a8>\n",
      "4 root.next = <__main__.Node object at 0x105697f28>\n",
      "5 root.next = None\n"
     ]
    }
   ],
   "source": [
    "arr = [1, 2, 3, 4, 5];  \n",
    "n = len(arr)  \n",
    "root = arrayToList(arr, n);  \n",
    "display(root)"
   ]
  },
  {
   "cell_type": "code",
   "execution_count": null,
   "metadata": {},
   "outputs": [],
   "source": []
  }
 ],
 "metadata": {
  "kernelspec": {
   "display_name": "Python 3",
   "language": "python",
   "name": "python3"
  },
  "language_info": {
   "codemirror_mode": {
    "name": "ipython",
    "version": 3
   },
   "file_extension": ".py",
   "mimetype": "text/x-python",
   "name": "python",
   "nbconvert_exporter": "python",
   "pygments_lexer": "ipython3",
   "version": "3.7.3"
  }
 },
 "nbformat": 4,
 "nbformat_minor": 4
}
