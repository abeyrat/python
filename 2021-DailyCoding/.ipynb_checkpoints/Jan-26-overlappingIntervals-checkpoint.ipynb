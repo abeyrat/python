{
 "cells": [
  {
   "cell_type": "code",
   "execution_count": 63,
   "metadata": {},
   "outputs": [],
   "source": [
    "def IsOverlapping(arr):\n",
    "    a = []\n",
    "    count = 0\n",
    "    for i in range(0, len(arr)-1):\n",
    "        x = range(arr[i][0],arr[i][1])\n",
    "        for j in range(i+1, len(arr)):                       \n",
    "                        if arr[j][0] in x or arr[j][1] in x:\n",
    "                            print('{} and {} are overlapping'.format(arr[i], arr[j]))\n",
    "                            count += 1\n",
    "                        else:\n",
    "                            print('{} and {} are not overlapping'.format(arr[i], arr[j]))\n",
    "    return count\n"
   ]
  },
  {
   "cell_type": "code",
   "execution_count": 64,
   "metadata": {},
   "outputs": [
    {
     "name": "stdout",
     "output_type": "stream",
     "text": [
      "(7, 9) and (2, 4) are not overlapping\n",
      "(7, 9) and (5, 8) are overlapping\n",
      "(2, 4) and (5, 8) are not overlapping\n"
     ]
    },
    {
     "data": {
      "text/plain": [
       "1"
      ]
     },
     "execution_count": 64,
     "metadata": {},
     "output_type": "execute_result"
    }
   ],
   "source": [
    "arr = [(7, 9), (2, 4), (5, 8)]\n",
    "IsOverlapping(arr)"
   ]
  },
  {
   "cell_type": "code",
   "execution_count": 65,
   "metadata": {},
   "outputs": [
    {
     "name": "stdout",
     "output_type": "stream",
     "text": [
      "(7, 9) and (8, 10) are overlapping\n",
      "(7, 9) and (1, 7) are overlapping\n",
      "(8, 10) and (1, 7) are not overlapping\n"
     ]
    },
    {
     "data": {
      "text/plain": [
       "2"
      ]
     },
     "execution_count": 65,
     "metadata": {},
     "output_type": "execute_result"
    }
   ],
   "source": [
    "arr = [(7, 9), (8, 10), (1,7)]\n",
    "IsOverlapping(arr)"
   ]
  },
  {
   "cell_type": "code",
   "execution_count": null,
   "metadata": {},
   "outputs": [],
   "source": []
  }
 ],
 "metadata": {
  "kernelspec": {
   "display_name": "Python 3",
   "language": "python",
   "name": "python3"
  },
  "language_info": {
   "codemirror_mode": {
    "name": "ipython",
    "version": 3
   },
   "file_extension": ".py",
   "mimetype": "text/x-python",
   "name": "python",
   "nbconvert_exporter": "python",
   "pygments_lexer": "ipython3",
   "version": "3.7.3"
  }
 },
 "nbformat": 4,
 "nbformat_minor": 4
}
