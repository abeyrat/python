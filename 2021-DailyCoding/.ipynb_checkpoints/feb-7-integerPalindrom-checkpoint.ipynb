{
 "cells": [
  {
   "cell_type": "code",
   "execution_count": 19,
   "metadata": {},
   "outputs": [],
   "source": [
    "def isPalindrom(num):  \n",
    "    # Converting to int \n",
    "    num = int(num[0])\n",
    "    print(num)\n",
    "\n",
    "    # Output list initialization \n",
    "    output = [] \n",
    "\n",
    "    while num>0: \n",
    "        rem = num % 10\n",
    "        num = int(num / 10) \n",
    "        output.append(rem) \n",
    "\n",
    "    # Printing output \n",
    "    print(output)\n",
    "    print(output[::-1])\n",
    "    \n",
    "    output2 = output[::-1]\n",
    "\n",
    "\n",
    "            \n",
    "    "
   ]
  },
  {
   "cell_type": "code",
   "execution_count": 20,
   "metadata": {},
   "outputs": [
    {
     "name": "stdout",
     "output_type": "stream",
     "text": [
      "897\n",
      "[7, 9, 8]\n",
      "[8, 9, 7]\n",
      "No\n",
      "No\n"
     ]
    }
   ],
   "source": [
    "num = [897]\n",
    "isPalindrom(num)"
   ]
  },
  {
   "cell_type": "code",
   "execution_count": null,
   "metadata": {},
   "outputs": [],
   "source": [
    "# Python code to split list containing single integer \n",
    "  \n",
    "# List initialization \n",
    "input = [987] \n",
    "  \n",
    "# Converting to int \n",
    "input = int(input[0]) \n",
    "  \n",
    "# Output list initialization \n",
    "output = [] \n",
    "  \n",
    "while input>0: \n",
    "    rem = input % 10\n",
    "    input = int(input / 10) \n",
    "    output.append(rem) \n",
    "  \n",
    "# Printing output \n",
    "print(output) "
   ]
  },
  {
   "cell_type": "code",
   "execution_count": null,
   "metadata": {},
   "outputs": [],
   "source": []
  },
  {
   "cell_type": "code",
   "execution_count": null,
   "metadata": {},
   "outputs": [],
   "source": [
    "789%10"
   ]
  },
  {
   "cell_type": "code",
   "execution_count": null,
   "metadata": {},
   "outputs": [],
   "source": [
    "888%10"
   ]
  },
  {
   "cell_type": "code",
   "execution_count": 5,
   "metadata": {},
   "outputs": [
    {
     "name": "stdout",
     "output_type": "stream",
     "text": [
      "6987\n",
      "[7, 8, 9, 6]\n"
     ]
    }
   ],
   "source": [
    "# Python code to split list containing single integer \n",
    "  \n",
    "# List initialization \n",
    "num = [6987] \n",
    "  \n",
    "# Converting to int \n",
    "num = int(num[0])\n",
    "print(num)\n",
    "  \n",
    "# Output list initialization \n",
    "output = [] \n",
    "  \n",
    "while num>0: \n",
    "    rem = num % 10\n",
    "    num = int(num / 10) \n",
    "    output.append(rem) \n",
    "  \n",
    "# Printing output \n",
    "print(output) "
   ]
  },
  {
   "cell_type": "code",
   "execution_count": 8,
   "metadata": {},
   "outputs": [
    {
     "name": "stdout",
     "output_type": "stream",
     "text": [
      "6987\n"
     ]
    }
   ],
   "source": [
    "n = [6987] \n",
    "  \n",
    "# Converting to int \n",
    "n = int(n[0])\n",
    "print(n)"
   ]
  },
  {
   "cell_type": "code",
   "execution_count": 34,
   "metadata": {},
   "outputs": [
    {
     "name": "stdout",
     "output_type": "stream",
     "text": [
      "8998\n",
      "[8, 9, 9, 8]\n"
     ]
    }
   ],
   "source": [
    "\n",
    "# Python code to split list containing single integer \n",
    "  \n",
    "# List initialization \n",
    "num = [8998] \n",
    "  \n",
    "# Converting to int \n",
    "num = int(num[0])\n",
    "print(num)\n",
    "  \n",
    "# Output list initialization \n",
    "output = [] \n",
    "  \n",
    "while num>0: \n",
    "    rem = num % 10\n",
    "    num = int(num / 10) \n",
    "    output.append(rem) \n",
    "  \n",
    "# Printing output \n",
    "print(output) \n",
    "\n",
    "def isPalindrome(output):\n",
    "    print(output)\n",
    "    return output == output[::-1]"
   ]
  },
  {
   "cell_type": "code",
   "execution_count": 35,
   "metadata": {},
   "outputs": [
    {
     "name": "stdout",
     "output_type": "stream",
     "text": [
      "[8, 9, 9, 8]\n"
     ]
    },
    {
     "data": {
      "text/plain": [
       "True"
      ]
     },
     "execution_count": 35,
     "metadata": {},
     "output_type": "execute_result"
    }
   ],
   "source": [
    "\n",
    "isPalindrome(output)"
   ]
  },
  {
   "cell_type": "code",
   "execution_count": 36,
   "metadata": {},
   "outputs": [],
   "source": [
    "# Python code to split list containing single integer \n",
    "  \n",
    "def checkPalin (num):\n",
    "    # Converting to int \n",
    "    num = int(num[0])\n",
    "    print(num)\n",
    "\n",
    "    # Output list initialization \n",
    "    output = [] \n",
    "\n",
    "    while num>0: \n",
    "        rem = num % 10\n",
    "        num = int(num / 10) \n",
    "        output.append(rem) \n",
    "\n",
    "    # Printing output \n",
    "    print(output) \n",
    "    return output == output[::-1]"
   ]
  },
  {
   "cell_type": "code",
   "execution_count": 37,
   "metadata": {},
   "outputs": [
    {
     "name": "stdout",
     "output_type": "stream",
     "text": [
      "89798\n",
      "[8, 9, 7, 9, 8]\n"
     ]
    },
    {
     "data": {
      "text/plain": [
       "True"
      ]
     },
     "execution_count": 37,
     "metadata": {},
     "output_type": "execute_result"
    }
   ],
   "source": [
    "N = [89798]\n",
    "checkPalin (N)"
   ]
  },
  {
   "cell_type": "code",
   "execution_count": null,
   "metadata": {},
   "outputs": [],
   "source": []
  }
 ],
 "metadata": {
  "kernelspec": {
   "display_name": "Python 3",
   "language": "python",
   "name": "python3"
  },
  "language_info": {
   "codemirror_mode": {
    "name": "ipython",
    "version": 3
   },
   "file_extension": ".py",
   "mimetype": "text/x-python",
   "name": "python",
   "nbconvert_exporter": "python",
   "pygments_lexer": "ipython3",
   "version": "3.7.3"
  }
 },
 "nbformat": 4,
 "nbformat_minor": 4
}
