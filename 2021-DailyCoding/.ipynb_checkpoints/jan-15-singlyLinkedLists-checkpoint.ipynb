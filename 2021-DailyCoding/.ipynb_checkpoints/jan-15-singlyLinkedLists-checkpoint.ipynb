{
 "cells": [
  {
   "cell_type": "markdown",
   "metadata": {},
   "source": [
    "# https://runestone.academy/runestone/books/published/pythonds/BasicDS/ImplementinganUnorderedListLinkedLists.html"
   ]
  },
  {
   "cell_type": "code",
   "execution_count": 9,
   "metadata": {},
   "outputs": [],
   "source": [
    "class Node:\n",
    "    def __init__(self,initdata):\n",
    "        self.data = initdata\n",
    "        self.next = None\n",
    "\n",
    "    def getData(self):\n",
    "        return self.data\n",
    "\n",
    "    def getNext(self):\n",
    "        return self.next\n",
    "\n",
    "    def setData(self,newdata):\n",
    "        self.data = newdata\n",
    "\n",
    "    def setNext(self,newnext):\n",
    "        self.next = newnext\n",
    "        \n",
    "class UnorderedList:\n",
    "\n",
    "    def __init__(self):\n",
    "        self.head = None\n",
    "        \n",
    "    def isEmpty(self):\n",
    "        return self.head == None"
   ]
  },
  {
   "cell_type": "code",
   "execution_count": null,
   "metadata": {},
   "outputs": [],
   "source": []
  },
  {
   "cell_type": "code",
   "execution_count": 10,
   "metadata": {},
   "outputs": [
    {
     "data": {
      "text/plain": [
       "93"
      ]
     },
     "execution_count": 10,
     "metadata": {},
     "output_type": "execute_result"
    }
   ],
   "source": [
    "temp = Node(93)\n",
    "temp.getData()"
   ]
  },
  {
   "cell_type": "code",
   "execution_count": null,
   "metadata": {},
   "outputs": [],
   "source": [
    "class Node:\n",
    "    def __init__(self, d , n= None):\n",
    "        self.data = d\n",
    "        self.next_node = n\n",
    "        \n",
    "    def get_next(self):\n",
    "        return self.next_node\n",
    "    def set_next(self):\n",
    "        self.next_node = n\n",
    "        \n",
    "    def get_data(self):\n",
    "        self.data\n",
    "        \n",
    "    def set_data(self):\n",
    "        self.data = d\n",
    "        \n",
    "class LinkedList(object):\n",
    "    def __init__(self, r= None):\n",
    "        self.root = r\n",
    "        self.size = 0\n",
    "    def get_size(self):\n",
    "        self.size\n",
    "        \n",
    "    def add(self, d):\n",
    "        new_node = Node(d,self.root)\n",
    "        self.root = new_node\n",
    "        self.size += 1\n",
    "        \n",
    "    def remove(self, d):\n",
    "        this_node = self.root\n",
    "        prev_node = None\n",
    "        while this_node:\n",
    "            if this_node.get_data == d:\n",
    "                if prev_node:\n",
    "                    prev_node.set_next(this_node.get_next())\n",
    "                else:\n",
    "                    self.root = this_node\n",
    "                    self.size -= 1\n",
    "                    return True  # data removed\n",
    "            else:\n",
    "                prev_node = this_node\n",
    "                this_node.get_next()\n",
    "        return False\n",
    "    \n",
    "    def find(self, d):\n",
    "        this_node = self.root\n",
    "        while this_node:\n",
    "            if this_node.get_data() == d:\n",
    "                return d\n",
    "            else:\n",
    "                this_node = this_node.get_next()\n",
    "        return None\n",
    "        \n",
    "mylist = LinkedList()  \n",
    "mylist.add(5)\n",
    "mylist.add(8)\n",
    "mylist.add(12)\n",
    "mylist.remove(8)  \n",
    "print(mylist.remove(12))\n",
    "print(mylist.find(5))"
   ]
  },
  {
   "cell_type": "code",
   "execution_count": 1,
   "metadata": {},
   "outputs": [
    {
     "name": "stdout",
     "output_type": "stream",
     "text": [
      "14\n"
     ]
    }
   ],
   "source": [
    "print(1+13)"
   ]
  },
  {
   "cell_type": "code",
   "execution_count": 15,
   "metadata": {},
   "outputs": [],
   "source": [
    "#https://www.youtube.com/watch?v=Ast5sKQXxEU"
   ]
  },
  {
   "cell_type": "code",
   "execution_count": 16,
   "metadata": {},
   "outputs": [
    {
     "data": {
      "text/plain": [
       "4442166816"
      ]
     },
     "execution_count": 16,
     "metadata": {},
     "output_type": "execute_result"
    }
   ],
   "source": [
    "x =5\n",
    "id(x)"
   ]
  },
  {
   "cell_type": "code",
   "execution_count": 21,
   "metadata": {},
   "outputs": [
    {
     "data": {
      "text/plain": [
       "4480875848"
      ]
     },
     "execution_count": 21,
     "metadata": {},
     "output_type": "execute_result"
    }
   ],
   "source": [
    "my_list = [1, 2, 3]\n",
    "id(my_list)"
   ]
  },
  {
   "cell_type": "code",
   "execution_count": 22,
   "metadata": {},
   "outputs": [
    {
     "name": "stdout",
     "output_type": "stream",
     "text": [
      "[1, 2, 3, 4]\n"
     ]
    },
    {
     "data": {
      "text/plain": [
       "4480875848"
      ]
     },
     "execution_count": 22,
     "metadata": {},
     "output_type": "execute_result"
    }
   ],
   "source": [
    "my_list.append(4)\n",
    "print(my_list)\n",
    "id(my_list)"
   ]
  },
  {
   "cell_type": "code",
   "execution_count": null,
   "metadata": {},
   "outputs": [],
   "source": []
  }
 ],
 "metadata": {
  "kernelspec": {
   "display_name": "Python 3",
   "language": "python",
   "name": "python3"
  },
  "language_info": {
   "codemirror_mode": {
    "name": "ipython",
    "version": 3
   },
   "file_extension": ".py",
   "mimetype": "text/x-python",
   "name": "python",
   "nbconvert_exporter": "python",
   "pygments_lexer": "ipython3",
   "version": "3.7.3"
  }
 },
 "nbformat": 4,
 "nbformat_minor": 4
}
