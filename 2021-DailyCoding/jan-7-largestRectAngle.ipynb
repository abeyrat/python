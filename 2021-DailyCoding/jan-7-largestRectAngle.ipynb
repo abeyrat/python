{
 "cells": [
  {
   "cell_type": "code",
   "execution_count": 2,
   "metadata": {},
   "outputs": [],
   "source": [
    "class Stack:\n",
    "    def __init__(self):\n",
    "        self.stack = []\n",
    "\n",
    "    def isEmpty(self):\n",
    "        return len(self.stack) == 0\n",
    "\n",
    "    def push(self, num):\n",
    "        self.stack.append(num)\n",
    "\n",
    "    def pop(self):\n",
    "        if self.isEmpty():\n",
    "            raise Exception('Stack Underflow')\n",
    "        return self.stack.pop()\n",
    "\n",
    "    def peek(self):\n",
    "        if self.isEmpty():\n",
    "            return None\n",
    "        return self.stack[-1]\n",
    "\n",
    "def max_area_histogram(arr):\n",
    "    stack = Stack()\n",
    "    stack.push(-1)\n",
    "    max_area = 0\n",
    "\n",
    "    for i in range(len(arr)):\n",
    "        while stack.peek() != -1 and arr[stack.peek()] >= arr[i]:\n",
    "            last_element_index = stack.pop()\n",
    "            max_area = max(max_area, arr[last_element_index] * (i - stack.peek() - 1))\n",
    "        stack.push(i)\n",
    "\n",
    "    while stack.peek() != -1:\n",
    "        last_element_index = stack.pop()\n",
    "        max_area = max(max_area, arr[last_element_index] * (len(arr) - stack.peek() - 1))\n",
    "\n",
    "    return max_area\n",
    "\n"
   ]
  },
  {
   "cell_type": "code",
   "execution_count": 3,
   "metadata": {},
   "outputs": [
    {
     "name": "stdout",
     "output_type": "stream",
     "text": [
      "12\n"
     ]
    }
   ],
   "source": [
    "arr = [6, 2, 5, 4, 5, 1, 6]\n",
    "\n",
    "print(max_area_histogram(arr))"
   ]
  },
  {
   "cell_type": "code",
   "execution_count": 4,
   "metadata": {},
   "outputs": [
    {
     "name": "stdout",
     "output_type": "stream",
     "text": [
      "15\n"
     ]
    }
   ],
   "source": [
    "arr = [2,4,6,3,8,5]\n",
    "\n",
    "print(max_area_histogram(arr))"
   ]
  },
  {
   "cell_type": "code",
   "execution_count": 5,
   "metadata": {},
   "outputs": [],
   "source": [
    "class Solution(object):\n",
    "   def largestRectangleArea(self, heights):\n",
    "      stack = []\n",
    "      i = 0\n",
    "      ans = 0\n",
    "      while i < len(heights):\n",
    "         if len(stack) == 0 or heights[stack[-1]]<=heights[i]:\n",
    "            stack.append(i)\n",
    "            i+=1\n",
    "         else:\n",
    "            x = stack[-1]\n",
    "            stack.pop()\n",
    "            height = heights[x]\n",
    "            temp = height * (i-stack[-1]-1) if len(stack)!= 0 else height * i\n",
    "            ans = max(ans,temp)\n",
    "      while len(stack)>0:\n",
    "         x = stack[-1]\n",
    "         height = heights[x]\n",
    "         stack.pop()\n",
    "         temp = height * (len(heights)-stack[-1]-1) if len(stack)!= 0 else height* len(heights)\n",
    "         ans = max(ans,temp)\n",
    "      return ans"
   ]
  },
  {
   "cell_type": "code",
   "execution_count": 7,
   "metadata": {},
   "outputs": [
    {
     "name": "stdout",
     "output_type": "stream",
     "text": [
      "15\n"
     ]
    }
   ],
   "source": [
    "arr = [2,4,6,3,8,5]\n",
    "ob = Solution()\n",
    "print(ob.largestRectangleArea(arr))"
   ]
  },
  {
   "cell_type": "code",
   "execution_count": null,
   "metadata": {},
   "outputs": [],
   "source": []
  }
 ],
 "metadata": {
  "kernelspec": {
   "display_name": "Python 3",
   "language": "python",
   "name": "python3"
  },
  "language_info": {
   "codemirror_mode": {
    "name": "ipython",
    "version": 3
   },
   "file_extension": ".py",
   "mimetype": "text/x-python",
   "name": "python",
   "nbconvert_exporter": "python",
   "pygments_lexer": "ipython3",
   "version": "3.7.3"
  }
 },
 "nbformat": 4,
 "nbformat_minor": 4
}
