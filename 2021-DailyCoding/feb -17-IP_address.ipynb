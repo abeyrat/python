{
 "cells": [
  {
   "cell_type": "code",
   "execution_count": null,
   "metadata": {},
   "outputs": [],
   "source": [
    "def makeIP(num):\n",
    "    x = list(num)\n",
    "    A = []\n",
    "    for i in range(0, 4):\n",
    "        A.append(num[i])\n",
    "        y = ''.join(A)\n",
    "        if int(y) < 255:\n",
    "            print('yes')\n",
    "        else:\n",
    "            print('no')\n",
    "                   \n",
    "        \n"
   ]
  },
  {
   "cell_type": "code",
   "execution_count": null,
   "metadata": {},
   "outputs": [],
   "source": [
    "num = \"2542540123\"\n",
    "makeIP(num)"
   ]
  },
  {
   "cell_type": "code",
   "execution_count": null,
   "metadata": {},
   "outputs": [],
   "source": [
    "y = ''.join(A)"
   ]
  },
  {
   "cell_type": "code",
   "execution_count": 11,
   "metadata": {},
   "outputs": [],
   "source": [
    "def makeIP(num):\n",
    "    x = list(num)\n",
    "    A = []\n",
    "    y = 0\n",
    "    while int(y) < 255:\n",
    "        for i in range(0, len(x)):\n",
    "            A.append(num[i])\n",
    "            y = ''.join(A)\n",
    "        print(int(y))\n",
    "                                \n",
    "\n"
   ]
  },
  {
   "cell_type": "code",
   "execution_count": 12,
   "metadata": {},
   "outputs": [
    {
     "name": "stdout",
     "output_type": "stream",
     "text": [
      "2542540123\n"
     ]
    }
   ],
   "source": [
    "num = \"2542540123\"\n",
    "makeIP(num)"
   ]
  },
  {
   "cell_type": "code",
   "execution_count": 49,
   "metadata": {},
   "outputs": [],
   "source": [
    "def makeIP(num):\n",
    "    x = list(num)\n",
    "    A = []\n",
    "    y = 0\n",
    "    final = []\n",
    "\n",
    "    for i in range(0, len(x)):\n",
    "        A.append(num[i])\n",
    "        y = ''.join(A)\n",
    "        if int(y) <= 255:\n",
    "            #print('yes')\n",
    "            #print(y)\n",
    "            final.append(y)\n",
    "    #print(final[-1])\n",
    "            \n",
    "       \n"
   ]
  },
  {
   "cell_type": "code",
   "execution_count": 50,
   "metadata": {},
   "outputs": [
    {
     "name": "stdout",
     "output_type": "stream",
     "text": [
      "254\n"
     ]
    }
   ],
   "source": [
    "num = \"2542540123\"\n",
    "makeIP(num)"
   ]
  },
  {
   "cell_type": "code",
   "execution_count": 59,
   "metadata": {},
   "outputs": [],
   "source": [
    "def makeIP(num):\n",
    "    x = num.split()\n",
    "    A = []\n",
    "    y = 0\n",
    "    final = []\n",
    "\n",
    "    for i in range(0, len(x)):\n",
    "        A.append(num[i])\n",
    "        y = ''.join(A)\n",
    "        if int(y) <= 255:\n",
    "            print('yes')\n",
    "            print(y)\n",
    "            final.append(y)\n",
    "    print(final)"
   ]
  },
  {
   "cell_type": "code",
   "execution_count": 60,
   "metadata": {},
   "outputs": [
    {
     "name": "stdout",
     "output_type": "stream",
     "text": [
      "yes\n",
      "2\n",
      "['2']\n"
     ]
    }
   ],
   "source": [
    "num = \"2542540123\"\n",
    "makeIP(num)"
   ]
  },
  {
   "cell_type": "code",
   "execution_count": null,
   "metadata": {},
   "outputs": [],
   "source": []
  }
 ],
 "metadata": {
  "kernelspec": {
   "display_name": "Python 3",
   "language": "python",
   "name": "python3"
  },
  "language_info": {
   "codemirror_mode": {
    "name": "ipython",
    "version": 3
   },
   "file_extension": ".py",
   "mimetype": "text/x-python",
   "name": "python",
   "nbconvert_exporter": "python",
   "pygments_lexer": "ipython3",
   "version": "3.7.3"
  }
 },
 "nbformat": 4,
 "nbformat_minor": 4
}
