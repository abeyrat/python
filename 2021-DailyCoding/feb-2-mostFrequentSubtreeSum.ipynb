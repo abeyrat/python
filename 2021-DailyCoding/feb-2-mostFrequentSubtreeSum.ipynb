{
 "cells": [
  {
   "cell_type": "code",
   "execution_count": null,
   "metadata": {},
   "outputs": [],
   "source": [
    "# https://www.geeksforgeeks.org/find-largest-subtree-sum-tree/"
   ]
  },
  {
   "cell_type": "code",
   "execution_count": 14,
   "metadata": {},
   "outputs": [],
   "source": [
    "# Python3 program to find largest subtree  \n",
    "# sum in a given binary tree.  \n",
    "  \n",
    "# Function to create new tree node.  \n",
    "class newNode: \n",
    "    def __init__(self, key): \n",
    "        self.key = key  \n",
    "        self.left = None\n",
    "        self.right = None\n",
    "  \n",
    "# Helper function to find largest  \n",
    "# subtree sum recursively.  \n",
    "def findLargestSubtreeSumUtil(root, ans): \n",
    "      \n",
    "    # If current node is None then  \n",
    "    # return 0 to parent node.  \n",
    "    if (root == None):  \n",
    "        return 0\n",
    "      \n",
    "    # Subtree sum rooted at current node.\n",
    "    print(root.key)\n",
    "    currSum = (root.key + \n",
    "               findLargestSubtreeSumUtil(root.left, ans) + \n",
    "               findLargestSubtreeSumUtil(root.right, ans))  \n",
    "  \n",
    "    # Update answer if current subtree  \n",
    "    # sum is greater than answer so far.  \n",
    "    ans[0] = max(ans[0], currSum)  \n",
    "  \n",
    "    # Return current subtree sum to  \n",
    "    # its parent node.  \n",
    "    return currSum \n",
    "  \n",
    "# Function to find largest subtree sum.  \n",
    "def findLargestSubtreeSum(root): \n",
    "      \n",
    "    # If tree does not exist,  \n",
    "    # then answer is 0.  \n",
    "    if (root == None):      \n",
    "        return 0\n",
    "      \n",
    "    # Variable to store maximum subtree sum.  \n",
    "    ans = [-999999999999] \n",
    "  \n",
    "    # Call to recursive function to  \n",
    "    # find maximum subtree sum.  \n",
    "    findLargestSubtreeSumUtil(root, ans)  \n",
    "  \n",
    "    return ans[0] \n",
    "  "
   ]
  },
  {
   "cell_type": "code",
   "execution_count": 16,
   "metadata": {},
   "outputs": [
    {
     "name": "stdout",
     "output_type": "stream",
     "text": [
      "1\n",
      "-2\n",
      "4\n",
      "5\n",
      "3\n",
      "-6\n",
      "2\n",
      "7\n"
     ]
    }
   ],
   "source": [
    "root = newNode(1)  \n",
    "root.left = newNode(-2)  \n",
    "root.right = newNode(3)  \n",
    "root.left.left = newNode(4)  \n",
    "root.left.right = newNode(5)  \n",
    "root.right.left = newNode(-6)  \n",
    "root.right.right = newNode(2)  \n",
    "\n",
    "print(findLargestSubtreeSum(root)) \n"
   ]
  },
  {
   "cell_type": "code",
   "execution_count": 18,
   "metadata": {},
   "outputs": [
    {
     "name": "stdout",
     "output_type": "stream",
     "text": [
      "5\n",
      "2\n",
      "-5\n",
      "2\n"
     ]
    }
   ],
   "source": [
    "root = newNode(5)  \n",
    "root.left = newNode(2)  \n",
    "root.right = newNode(-5)  \n",
    "\n",
    " \n",
    "\n",
    "print(findLargestSubtreeSum(root)) \n"
   ]
  },
  {
   "cell_type": "code",
   "execution_count": 17,
   "metadata": {},
   "outputs": [
    {
     "name": "stdout",
     "output_type": "stream",
     "text": [
      "50\n",
      "10\n",
      "5\n",
      "20\n",
      "60\n",
      "55\n",
      "45\n",
      "70\n",
      "65\n",
      "80\n",
      "460\n"
     ]
    }
   ],
   "source": [
    "root = newNode(50)  \n",
    "root.left     = newNode(10)  \n",
    "root.right     = newNode(60)  \n",
    "root.left.left = newNode(5)  \n",
    "root.left.right = newNode(20)  \n",
    "root.right.left = newNode(55) \n",
    "root.right.left.left = newNode(45)  \n",
    "root.right.right = newNode(70) \n",
    "root.right.right.left = newNode(65)  \n",
    "root.right.right.right = newNode(80) \n",
    "\n",
    "print(findLargestSubtreeSum(root)) \n"
   ]
  },
  {
   "cell_type": "code",
   "execution_count": 20,
   "metadata": {},
   "outputs": [
    {
     "name": "stdout",
     "output_type": "stream",
     "text": [
      "1\n",
      "-2\n",
      "4\n",
      "5\n",
      "3\n",
      "-6\n",
      "2\n",
      "7\n"
     ]
    }
   ],
   "source": [
    "root = newNode(1)\n",
    "root.left = newNode(-2)\n",
    "root.right = newNode(3)\n",
    "root.left.left = newNode(4)\n",
    "root.left.right = newNode(5)\n",
    "root.right.left = newNode(-6)\n",
    "root.right.right = newNode(2)\n",
    "\n",
    "print(findLargestSubtreeSum(root)) "
   ]
  },
  {
   "cell_type": "code",
   "execution_count": 28,
   "metadata": {},
   "outputs": [],
   "source": [
    "class Solution:\n",
    "\n",
    "    def findFrequentTreeSum(self, root):\n",
    "        \"\"\"\n",
    "        :type root: TreeNode\n",
    "        :rtype: List[int]\n",
    "        \"\"\"\n",
    "        map1 = {}\n",
    "\n",
    "        def helper(root):\n",
    "            if not root:\n",
    "                return 0\n",
    "            left_val = helper(root.left)\n",
    "            right_val = helper(root.right)\n",
    "            cur_sum = left_val + right_val + root.val\n",
    "            print (\"cur_sum\", cur_sum, left_val, right_val, root.val)\n",
    "            print('map1.get', map1.get(cur_sum))\n",
    "            map1[cur_sum] = 1 if not map1.get(cur_sum) else map1[cur_sum] + 1\n",
    "            return cur_sum\n",
    "\n",
    "        helper(root)\n",
    "        print (\"map\", map1)\n",
    "        res = []\n",
    "        value_list = [v for v in sorted(map1.values())]\n",
    "        if value_list:\n",
    "            max_fre = value_list[-1]\n",
    "            res = [k for k, v in map1.items() if v == max_fre]\n",
    "        return res\n"
   ]
  },
  {
   "cell_type": "code",
   "execution_count": 29,
   "metadata": {},
   "outputs": [
    {
     "name": "stdout",
     "output_type": "stream",
     "text": [
      "cur_sum -5 0 0 -5\n",
      "map1.get None\n",
      "cur_sum 1 0 0 1\n",
      "map1.get None\n",
      "cur_sum -2 -5 1 2\n",
      "map1.get None\n",
      "cur_sum 9 0 0 9\n",
      "map1.get None\n",
      "cur_sum -7 0 0 -7\n",
      "map1.get None\n",
      "cur_sum 9 9 -7 7\n",
      "map1.get 1\n",
      "cur_sum 15 -2 9 8\n",
      "map1.get None\n",
      "map {-5: 1, 1: 1, -2: 1, 9: 2, -7: 1, 15: 1}\n",
      "[9]\n"
     ]
    }
   ],
   "source": [
    "node1 = TreeNode(2)\n",
    "node1.left = TreeNode(-5)\n",
    "node1.right = TreeNode(1)\n",
    "\n",
    "node3 = TreeNode(7)\n",
    "node3.left = TreeNode(9)\n",
    "node3.right = TreeNode(-7)\n",
    "\n",
    "node2 = TreeNode(8)\n",
    "node2.left = node1\n",
    "node2.right = node3\n",
    "\n",
    "s = Solution()\n",
    "res = s.findFrequentTreeSum(node2)\n",
    "print (res)"
   ]
  },
  {
   "cell_type": "code",
   "execution_count": 27,
   "metadata": {},
   "outputs": [
    {
     "name": "stdout",
     "output_type": "stream",
     "text": [
      "cur_sum 4 0 0 4\n",
      "cur_sum 5 0 0 5\n",
      "cur_sum 7 4 5 -2\n",
      "cur_sum -6 0 0 -6\n",
      "cur_sum 2 0 0 2\n",
      "cur_sum -1 -6 2 3\n",
      "cur_sum 7 7 -1 1\n",
      "map {4: 1, 5: 1, 7: 2, -6: 1, 2: 1, -1: 1}\n"
     ]
    }
   ],
   "source": [
    "root = TreeNode(1)  \n",
    "root.left = TreeNode(-2)  \n",
    "root.right = TreeNode(3)  \n",
    "root.left.left = TreeNode(4)  \n",
    "root.left.right = TreeNode(5)  \n",
    "root.right.left = TreeNode(-6)  \n",
    "root.right.right = TreeNode(2)\n",
    "\n",
    "s = Solution()\n",
    "res = s.findFrequentTreeSum(root)"
   ]
  },
  {
   "cell_type": "code",
   "execution_count": 30,
   "metadata": {},
   "outputs": [
    {
     "name": "stdout",
     "output_type": "stream",
     "text": [
      "cur_sum 2 0 0 2\n",
      "map1.get None\n",
      "cur_sum -5 0 0 -5\n",
      "map1.get None\n",
      "cur_sum 2 2 -5 5\n",
      "map1.get 1\n",
      "map {2: 2, -5: 1}\n"
     ]
    }
   ],
   "source": [
    "root = TreeNode(5)  \n",
    "root.left = TreeNode(2)  \n",
    "root.right = TreeNode(-5)\n",
    "\n",
    "s = Solution()\n",
    "res = s.findFrequentTreeSum(root)\n"
   ]
  },
  {
   "cell_type": "code",
   "execution_count": 31,
   "metadata": {},
   "outputs": [],
   "source": [
    "car = {\n",
    "  \"brand\": \"Ford\",\n",
    "  \"model\": \"Mustang\",\n",
    "  \"year\": 1964\n",
    "}"
   ]
  },
  {
   "cell_type": "code",
   "execution_count": 33,
   "metadata": {},
   "outputs": [
    {
     "data": {
      "text/plain": [
       "'Mustang'"
      ]
     },
     "execution_count": 33,
     "metadata": {},
     "output_type": "execute_result"
    }
   ],
   "source": [
    "car.get('model')"
   ]
  },
  {
   "cell_type": "code",
   "execution_count": null,
   "metadata": {},
   "outputs": [],
   "source": []
  }
 ],
 "metadata": {
  "kernelspec": {
   "display_name": "Python 3",
   "language": "python",
   "name": "python3"
  },
  "language_info": {
   "codemirror_mode": {
    "name": "ipython",
    "version": 3
   },
   "file_extension": ".py",
   "mimetype": "text/x-python",
   "name": "python",
   "nbconvert_exporter": "python",
   "pygments_lexer": "ipython3",
   "version": "3.7.3"
  }
 },
 "nbformat": 4,
 "nbformat_minor": 4
}
