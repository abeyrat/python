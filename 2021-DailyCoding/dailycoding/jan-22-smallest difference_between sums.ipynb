{
 "cells": [
  {
   "cell_type": "code",
   "execution_count": 20,
   "metadata": {},
   "outputs": [],
   "source": [
    "def subSets(arr):\n",
    "    arr = sorted(arr)\n",
    "    print('sorted ',arr)\n",
    "    x = sum(arr)\n",
    "    half = x//2\n",
    "    print(half)\n",
    "    a = arr[len(arr)-1]\n",
    "    b = []\n",
    "    c = []\n",
    "    add1 = 0\n",
    "    add2 = 0\n",
    "    b.append(a)\n",
    "    for i in range(0, len(arr)-1):\n",
    "        b.append(arr[i])\n",
    "        add1 = sum(b)\n",
    "        if add1 >= half:\n",
    "            break       \n",
    "    for i in range (0, len(arr)):\n",
    "        if arr[i] not in b:\n",
    "            c.append(arr[i])\n",
    "            add2 = sum(c)\n",
    "    print(add1)\n",
    "    print(b)\n",
    "    print(add2)\n",
    "    print(c)\n",
    "            \n",
    "    "
   ]
  },
  {
   "cell_type": "code",
   "execution_count": 14,
   "metadata": {},
   "outputs": [
    {
     "name": "stdout",
     "output_type": "stream",
     "text": [
      "40\n",
      "[25, 5, 10]\n",
      "35\n",
      "[15, 20]\n"
     ]
    }
   ],
   "source": [
    "arr = [5, 10, 15, 20, 25]\n",
    "subSets(arr)"
   ]
  },
  {
   "cell_type": "code",
   "execution_count": 21,
   "metadata": {},
   "outputs": [
    {
     "name": "stdout",
     "output_type": "stream",
     "text": [
      "sorted  [5, 16, 20, 38, 60]\n",
      "69\n",
      "81\n",
      "[60, 5, 16]\n",
      "58\n",
      "[20, 38]\n"
     ]
    }
   ],
   "source": [
    "arr = [38,20,60,16,5]\n",
    "subSets(arr)"
   ]
  },
  {
   "cell_type": "code",
   "execution_count": 26,
   "metadata": {},
   "outputs": [
    {
     "name": "stdout",
     "output_type": "stream",
     "text": [
      "The minimum difference is 5\n"
     ]
    }
   ],
   "source": [
    "# Partition the set S into two subsets S1, S2 such that the\n",
    "# difference between the sum of elements in S1 and the sum\n",
    "# of elements in S2 is minimized\n",
    "def minPartition(S, n, S1=0, S2=0):\n",
    " \n",
    "    # base case: if list becomes empty, return the absolute\n",
    "    # difference between two sets\n",
    "    if n < 0:\n",
    "        return abs(S1 - S2)\n",
    " \n",
    "    # Case 1. include current item in the subset S1 and recur\n",
    "    # for remaining items (n - 1)\n",
    "    inc = minPartition(S, n - 1, S1 + S[n], S2)\n",
    " \n",
    "    # Case 2. exclude current item from subset S1 and recur for\n",
    "    # remaining items (n - 1)\n",
    "    exc = minPartition(S, n - 1, S1, S2 + S[n])\n",
    " \n",
    "    return min(inc, exc)\n",
    "if __name__ == '__main__':\n",
    " \n",
    "    # Input: set of items\n",
    "    S = [10, 20, 15, 5, 25]\n",
    "    print(\"The minimum difference is\", minPartition(S, len(S) - 1))\n",
    " "
   ]
  },
  {
   "cell_type": "code",
   "execution_count": null,
   "metadata": {},
   "outputs": [],
   "source": []
  }
 ],
 "metadata": {
  "kernelspec": {
   "display_name": "Python 3",
   "language": "python",
   "name": "python3"
  },
  "language_info": {
   "codemirror_mode": {
    "name": "ipython",
    "version": 3
   },
   "file_extension": ".py",
   "mimetype": "text/x-python",
   "name": "python",
   "nbconvert_exporter": "python",
   "pygments_lexer": "ipython3",
   "version": "3.7.3"
  }
 },
 "nbformat": 4,
 "nbformat_minor": 4
}
