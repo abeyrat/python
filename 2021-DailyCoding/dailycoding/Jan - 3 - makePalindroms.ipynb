{
 "cells": [
  {
   "cell_type": "code",
   "execution_count": 1,
   "metadata": {},
   "outputs": [],
   "source": [
    "def isPalindrome(s):\n",
    "    return s == s[::-1]"
   ]
  },
  {
   "cell_type": "code",
   "execution_count": 2,
   "metadata": {},
   "outputs": [
    {
     "data": {
      "text/plain": [
       "True"
      ]
     },
     "execution_count": 2,
     "metadata": {},
     "output_type": "execute_result"
    }
   ],
   "source": [
    "s = 'malayalam'\n",
    "isPalindrome(s)"
   ]
  },
  {
   "cell_type": "code",
   "execution_count": 7,
   "metadata": {},
   "outputs": [],
   "source": [
    "def isPalindrome(s):\n",
    "    if s == s[::-1]:\n",
    "        print('yes')\n",
    "    else:\n",
    "        print('No')"
   ]
  },
  {
   "cell_type": "code",
   "execution_count": 8,
   "metadata": {},
   "outputs": [
    {
     "name": "stdout",
     "output_type": "stream",
     "text": [
      "yes\n"
     ]
    }
   ],
   "source": [
    "isPalindrome(s)"
   ]
  },
  {
   "cell_type": "code",
   "execution_count": 10,
   "metadata": {},
   "outputs": [
    {
     "name": "stdout",
     "output_type": "stream",
     "text": [
      "yes\n"
     ]
    }
   ],
   "source": [
    "s1 = 1234321\n",
    "s2 = str(s1)\n",
    "isPalindrome(s2)"
   ]
  },
  {
   "cell_type": "code",
   "execution_count": 12,
   "metadata": {},
   "outputs": [
    {
     "name": "stdout",
     "output_type": "stream",
     "text": [
      "codeedoc\n",
      "edoccode\n"
     ]
    }
   ],
   "source": [
    "lis1 = 'code'\n",
    "lis2 = 'edoc'\n",
    "lis3 = lis1+lis2\n",
    "lis4 = lis2+lis1\n",
    "print(lis3)\n",
    "print(lis4)"
   ]
  },
  {
   "cell_type": "code",
   "execution_count": 2,
   "metadata": {},
   "outputs": [],
   "source": [
    "def Solution_palindrome (arr):\n",
    "    B = []\n",
    "    i = 0\n",
    "    while i < len(arr)-1:\n",
    "        A = []\n",
    "        lis1 = arr[i]+arr[i+1]\n",
    "        lis2 = arr[i+1]+arr[i]\n",
    "        if lis1 == lis1[::-1]:\n",
    "            A.append(i)\n",
    "            A.append(i+1)\n",
    "            B.append(tuple(A))\n",
    "            A = []\n",
    "        if lis2 == lis2[::-1]:\n",
    "            A.append(i+1)\n",
    "            A.append(i) \n",
    "            B.append(tuple(A))\n",
    "            A = []\n",
    "        print(lis1,lis2)\n",
    "        i += 1\n",
    "        \n",
    "    return B\n",
    "       \n",
    "\n",
    "        "
   ]
  },
  {
   "cell_type": "code",
   "execution_count": 4,
   "metadata": {},
   "outputs": [
    {
     "name": "stdout",
     "output_type": "stream",
     "text": [
      "codeedoc edoccode\n",
      "edocda daedoc\n",
      "dad dda\n"
     ]
    },
    {
     "data": {
      "text/plain": [
       "[(0, 1), (1, 0), (2, 3)]"
      ]
     },
     "execution_count": 4,
     "metadata": {},
     "output_type": "execute_result"
    }
   ],
   "source": [
    "arr = [\"code\", \"edoc\", \"da\", \"d\"]\n",
    "Solution_palindrome(arr)"
   ]
  },
  {
   "cell_type": "code",
   "execution_count": null,
   "metadata": {},
   "outputs": [],
   "source": []
  }
 ],
 "metadata": {
  "kernelspec": {
   "display_name": "Python 3",
   "language": "python",
   "name": "python3"
  },
  "language_info": {
   "codemirror_mode": {
    "name": "ipython",
    "version": 3
   },
   "file_extension": ".py",
   "mimetype": "text/x-python",
   "name": "python",
   "nbconvert_exporter": "python",
   "pygments_lexer": "ipython3",
   "version": "3.7.3"
  }
 },
 "nbformat": 4,
 "nbformat_minor": 4
}
