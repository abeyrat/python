{
 "cells": [
  {
   "cell_type": "code",
   "execution_count": 13,
   "metadata": {},
   "outputs": [],
   "source": [
    "def subSets(arr):\n",
    "    arr = sorted(arr)\n",
    "    x = sum(arr)\n",
    "    half = x//2\n",
    "    #print(half)\n",
    "    a = arr[len(arr)-1]\n",
    "    b = []\n",
    "    c = []\n",
    "    add1 = 0\n",
    "    add2 = 0\n",
    "    b.append(a)\n",
    "    for i in range(0, len(arr)-1):\n",
    "        b.append(arr[i])\n",
    "        add1 = sum(b)\n",
    "        if add1 >= half:\n",
    "            break       \n",
    "    for i in range (0, len(arr)):\n",
    "        if arr[i] not in b:\n",
    "            c.append(arr[i])\n",
    "            add2 = sum(c)\n",
    "    print(add1)\n",
    "    print(b)\n",
    "    print(add2)\n",
    "    print(c)\n",
    "            \n",
    "    "
   ]
  },
  {
   "cell_type": "code",
   "execution_count": 14,
   "metadata": {},
   "outputs": [
    {
     "name": "stdout",
     "output_type": "stream",
     "text": [
      "40\n",
      "[25, 5, 10]\n",
      "35\n",
      "[15, 20]\n"
     ]
    }
   ],
   "source": [
    "arr = [5, 10, 15, 20, 25]\n",
    "subSets(arr)"
   ]
  },
  {
   "cell_type": "code",
   "execution_count": null,
   "metadata": {},
   "outputs": [],
   "source": []
  }
 ],
 "metadata": {
  "kernelspec": {
   "display_name": "Python 3",
   "language": "python",
   "name": "python3"
  },
  "language_info": {
   "codemirror_mode": {
    "name": "ipython",
    "version": 3
   },
   "file_extension": ".py",
   "mimetype": "text/x-python",
   "name": "python",
   "nbconvert_exporter": "python",
   "pygments_lexer": "ipython3",
   "version": "3.7.3"
  }
 },
 "nbformat": 4,
 "nbformat_minor": 4
}
