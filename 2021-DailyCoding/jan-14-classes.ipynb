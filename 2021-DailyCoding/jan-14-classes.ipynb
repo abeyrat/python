{
 "cells": [
  {
   "cell_type": "code",
   "execution_count": 1,
   "metadata": {},
   "outputs": [
    {
     "name": "stdout",
     "output_type": "stream",
     "text": [
      "<function Person.greet at 0x10d7c4b70>\n",
      "<bound method Person.greet of <__main__.Person object at 0x10d827198>>\n",
      "Hello\n"
     ]
    }
   ],
   "source": [
    "class Person:\n",
    "    \"This is a person class\"\n",
    "    age = 10\n",
    "\n",
    "    def greet(self):\n",
    "        print('Hello')\n",
    "\n",
    "\n",
    "# create a new object of Person class\n",
    "harry = Person()\n",
    "\n",
    "# Output: <function Person.greet>\n",
    "print(Person.greet)\n",
    "\n",
    "# Output: <bound method Person.greet of <__main__.Person object>>\n",
    "print(harry.greet)\n",
    "\n",
    "# Calling object's greet() method\n",
    "# Output: Hello\n",
    "harry.greet()"
   ]
  },
  {
   "cell_type": "code",
   "execution_count": 2,
   "metadata": {},
   "outputs": [
    {
     "name": "stdout",
     "output_type": "stream",
     "text": [
      "<bound method Person.greet of <__main__.Person object at 0x10d827198>>\n"
     ]
    }
   ],
   "source": [
    "print(harry.greet)"
   ]
  },
  {
   "cell_type": "code",
   "execution_count": 3,
   "metadata": {},
   "outputs": [
    {
     "name": "stdout",
     "output_type": "stream",
     "text": [
      "Hello\n"
     ]
    }
   ],
   "source": [
    "harry.greet()"
   ]
  },
  {
   "cell_type": "code",
   "execution_count": 5,
   "metadata": {},
   "outputs": [
    {
     "name": "stdout",
     "output_type": "stream",
     "text": [
      "2+3j\n"
     ]
    }
   ],
   "source": [
    "class ComplexNumber:\n",
    "    def __init__(self, r=0, i=0):\n",
    "        self.real = r\n",
    "        self.imag = i\n",
    "\n",
    "    def get_data(self):\n",
    "        print(f'{self.real}+{self.imag}j')\n",
    "\n",
    "\n",
    "# Create a new ComplexNumber object\n",
    "num1 = ComplexNumber(2, 3)\n",
    "\n",
    "# Call get_data() method\n",
    "# Output: 2+3j\n",
    "ComplexNumber.get_data(num1)"
   ]
  },
  {
   "cell_type": "code",
   "execution_count": 6,
   "metadata": {},
   "outputs": [
    {
     "name": "stdout",
     "output_type": "stream",
     "text": [
      "2+3j\n"
     ]
    }
   ],
   "source": [
    "class ComplexNumber:\n",
    "    def __init__(self, r=0, i=0):\n",
    "        self.real = r\n",
    "        self.imag = i\n",
    "\n",
    "    def get_data(self):\n",
    "        print(f'{self.real}+{self.imag}j')\n",
    "\n",
    "\n",
    "# Create a new ComplexNumber object\n",
    "num1 = ComplexNumber(2, 3)\n",
    "\n",
    "# Call get_data() method\n",
    "# Output: 2+3j\n",
    "num1.get_data()"
   ]
  },
  {
   "cell_type": "code",
   "execution_count": 8,
   "metadata": {},
   "outputs": [
    {
     "name": "stdout",
     "output_type": "stream",
     "text": [
      "(5, 0, 10)\n"
     ]
    },
    {
     "ename": "AttributeError",
     "evalue": "'ComplexNumber' object has no attribute 'attr'",
     "output_type": "error",
     "traceback": [
      "\u001b[0;31m---------------------------------------------------------------------------\u001b[0m",
      "\u001b[0;31mAttributeError\u001b[0m                            Traceback (most recent call last)",
      "\u001b[0;32m<ipython-input-8-732184b1ecc3>\u001b[0m in \u001b[0;36m<module>\u001b[0;34m\u001b[0m\n\u001b[1;32m      8\u001b[0m \u001b[0;31m# but c1 object doesn't have attribute 'attr'\u001b[0m\u001b[0;34m\u001b[0m\u001b[0;34m\u001b[0m\u001b[0;34m\u001b[0m\u001b[0m\n\u001b[1;32m      9\u001b[0m \u001b[0;31m# AttributeError: 'ComplexNumber' object has no attribute 'attr'\u001b[0m\u001b[0;34m\u001b[0m\u001b[0;34m\u001b[0m\u001b[0;34m\u001b[0m\u001b[0m\n\u001b[0;32m---> 10\u001b[0;31m \u001b[0mprint\u001b[0m\u001b[0;34m(\u001b[0m\u001b[0mnum1\u001b[0m\u001b[0;34m.\u001b[0m\u001b[0mattr\u001b[0m\u001b[0;34m)\u001b[0m\u001b[0;34m\u001b[0m\u001b[0;34m\u001b[0m\u001b[0m\n\u001b[0m",
      "\u001b[0;31mAttributeError\u001b[0m: 'ComplexNumber' object has no attribute 'attr'"
     ]
    }
   ],
   "source": [
    "# Create another ComplexNumber object\n",
    "# and create a new attribute 'attr'\n",
    "num2 = ComplexNumber(5)\n",
    "num2.attr = 10\n",
    "# Output: (5, 0, 10)\n",
    "print((num2.real, num2.imag, num2.attr))\n",
    "\n",
    "# but c1 object doesn't have attribute 'attr'\n",
    "# AttributeError: 'ComplexNumber' object has no attribute 'attr'\n",
    "print(num1.attr)\n"
   ]
  },
  {
   "cell_type": "code",
   "execution_count": null,
   "metadata": {},
   "outputs": [],
   "source": []
  }
 ],
 "metadata": {
  "kernelspec": {
   "display_name": "Python 3",
   "language": "python",
   "name": "python3"
  },
  "language_info": {
   "codemirror_mode": {
    "name": "ipython",
    "version": 3
   },
   "file_extension": ".py",
   "mimetype": "text/x-python",
   "name": "python",
   "nbconvert_exporter": "python",
   "pygments_lexer": "ipython3",
   "version": "3.7.3"
  }
 },
 "nbformat": 4,
 "nbformat_minor": 4
}
